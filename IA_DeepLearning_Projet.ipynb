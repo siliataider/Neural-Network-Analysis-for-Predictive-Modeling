{
  "cells": [
    {
      "cell_type": "markdown",
      "metadata": {
        "id": "f0iuiH0M0Ym5"
      },
      "source": [
        "# 💻  **Step 1: Preparation**"
      ]
    },
    {
      "cell_type": "markdown",
      "metadata": {
        "id": "wjJiRJ3x4GSV"
      },
      "source": [
        "## 🎥 **Loading the Movies dataset**"
      ]
    },
    {
      "cell_type": "code",
      "execution_count": 10,
      "metadata": {
        "id": "GR8b4aWN2rPe"
      },
      "outputs": [],
      "source": [
        "import pandas as pd"
      ]
    },
    {
      "cell_type": "code",
      "execution_count": 11,
      "metadata": {
        "id": "ghBfChlt0YG4"
      },
      "outputs": [],
      "source": [
        "# Load the dataset from Github\n",
        "url = 'https://raw.githubusercontent.com/siliataider/IA-DeepLearning-Projet/main/Top_rated_movies1.csv'\n",
        "df1 = pd.read_csv(url)"
      ]
    },
    {
      "cell_type": "markdown",
      "metadata": {
        "id": "yfNyi-BE4OI-"
      },
      "source": [
        "## 📶 **Dataset characteristics**"
      ]
    },
    {
      "cell_type": "code",
      "execution_count": 12,
      "metadata": {
        "colab": {
          "base_uri": "https://localhost:8080/",
          "height": 206
        },
        "id": "U6JkEJ4X2uj2",
        "outputId": "ec5e6231-cef4-4d93-cf18-720de3aa76e7"
      },
      "outputs": [
        {
          "output_type": "execute_result",
          "data": {
            "text/plain": [
              "       id                                 title  \\\n",
              "0  168705                            BloodRayne   \n",
              "1   19766                    Inspector Gadget 2   \n",
              "2  248705            The Visitors: Bastille Day   \n",
              "3   17711  The Adventures of Rocky & Bullwinkle   \n",
              "4     580                     Jaws: The Revenge   \n",
              "\n",
              "                                            overview  popularity release_date  \\\n",
              "0  In 18th-century Romania, after spending much o...      17.499   2005-10-22   \n",
              "1  After capturing Claw, all the criminals have g...      20.772   2003-03-11   \n",
              "2  Stuck in the corridors of time, Godefroy de Mo...      18.828   2016-03-23   \n",
              "3  Rocky and Bullwinkle have been living off the ...      16.436   2000-06-30   \n",
              "4  After another deadly shark attack, Ellen Brody...      30.996   1987-07-17   \n",
              "\n",
              "   vote_average  vote_count  \n",
              "0         4.105         501  \n",
              "1         4.100         342  \n",
              "2         4.090         636  \n",
              "3         4.075         335  \n",
              "4         4.064         931  "
            ],
            "text/html": [
              "\n",
              "  <div id=\"df-14f12d0f-3f9e-46b7-87f8-a7481abb2b93\" class=\"colab-df-container\">\n",
              "    <div>\n",
              "<style scoped>\n",
              "    .dataframe tbody tr th:only-of-type {\n",
              "        vertical-align: middle;\n",
              "    }\n",
              "\n",
              "    .dataframe tbody tr th {\n",
              "        vertical-align: top;\n",
              "    }\n",
              "\n",
              "    .dataframe thead th {\n",
              "        text-align: right;\n",
              "    }\n",
              "</style>\n",
              "<table border=\"1\" class=\"dataframe\">\n",
              "  <thead>\n",
              "    <tr style=\"text-align: right;\">\n",
              "      <th></th>\n",
              "      <th>id</th>\n",
              "      <th>title</th>\n",
              "      <th>overview</th>\n",
              "      <th>popularity</th>\n",
              "      <th>release_date</th>\n",
              "      <th>vote_average</th>\n",
              "      <th>vote_count</th>\n",
              "    </tr>\n",
              "  </thead>\n",
              "  <tbody>\n",
              "    <tr>\n",
              "      <th>0</th>\n",
              "      <td>168705</td>\n",
              "      <td>BloodRayne</td>\n",
              "      <td>In 18th-century Romania, after spending much o...</td>\n",
              "      <td>17.499</td>\n",
              "      <td>2005-10-22</td>\n",
              "      <td>4.105</td>\n",
              "      <td>501</td>\n",
              "    </tr>\n",
              "    <tr>\n",
              "      <th>1</th>\n",
              "      <td>19766</td>\n",
              "      <td>Inspector Gadget 2</td>\n",
              "      <td>After capturing Claw, all the criminals have g...</td>\n",
              "      <td>20.772</td>\n",
              "      <td>2003-03-11</td>\n",
              "      <td>4.100</td>\n",
              "      <td>342</td>\n",
              "    </tr>\n",
              "    <tr>\n",
              "      <th>2</th>\n",
              "      <td>248705</td>\n",
              "      <td>The Visitors: Bastille Day</td>\n",
              "      <td>Stuck in the corridors of time, Godefroy de Mo...</td>\n",
              "      <td>18.828</td>\n",
              "      <td>2016-03-23</td>\n",
              "      <td>4.090</td>\n",
              "      <td>636</td>\n",
              "    </tr>\n",
              "    <tr>\n",
              "      <th>3</th>\n",
              "      <td>17711</td>\n",
              "      <td>The Adventures of Rocky &amp; Bullwinkle</td>\n",
              "      <td>Rocky and Bullwinkle have been living off the ...</td>\n",
              "      <td>16.436</td>\n",
              "      <td>2000-06-30</td>\n",
              "      <td>4.075</td>\n",
              "      <td>335</td>\n",
              "    </tr>\n",
              "    <tr>\n",
              "      <th>4</th>\n",
              "      <td>580</td>\n",
              "      <td>Jaws: The Revenge</td>\n",
              "      <td>After another deadly shark attack, Ellen Brody...</td>\n",
              "      <td>30.996</td>\n",
              "      <td>1987-07-17</td>\n",
              "      <td>4.064</td>\n",
              "      <td>931</td>\n",
              "    </tr>\n",
              "  </tbody>\n",
              "</table>\n",
              "</div>\n",
              "    <div class=\"colab-df-buttons\">\n",
              "\n",
              "  <div class=\"colab-df-container\">\n",
              "    <button class=\"colab-df-convert\" onclick=\"convertToInteractive('df-14f12d0f-3f9e-46b7-87f8-a7481abb2b93')\"\n",
              "            title=\"Convert this dataframe to an interactive table.\"\n",
              "            style=\"display:none;\">\n",
              "\n",
              "  <svg xmlns=\"http://www.w3.org/2000/svg\" height=\"24px\" viewBox=\"0 -960 960 960\">\n",
              "    <path d=\"M120-120v-720h720v720H120Zm60-500h600v-160H180v160Zm220 220h160v-160H400v160Zm0 220h160v-160H400v160ZM180-400h160v-160H180v160Zm440 0h160v-160H620v160ZM180-180h160v-160H180v160Zm440 0h160v-160H620v160Z\"/>\n",
              "  </svg>\n",
              "    </button>\n",
              "\n",
              "  <style>\n",
              "    .colab-df-container {\n",
              "      display:flex;\n",
              "      gap: 12px;\n",
              "    }\n",
              "\n",
              "    .colab-df-convert {\n",
              "      background-color: #E8F0FE;\n",
              "      border: none;\n",
              "      border-radius: 50%;\n",
              "      cursor: pointer;\n",
              "      display: none;\n",
              "      fill: #1967D2;\n",
              "      height: 32px;\n",
              "      padding: 0 0 0 0;\n",
              "      width: 32px;\n",
              "    }\n",
              "\n",
              "    .colab-df-convert:hover {\n",
              "      background-color: #E2EBFA;\n",
              "      box-shadow: 0px 1px 2px rgba(60, 64, 67, 0.3), 0px 1px 3px 1px rgba(60, 64, 67, 0.15);\n",
              "      fill: #174EA6;\n",
              "    }\n",
              "\n",
              "    .colab-df-buttons div {\n",
              "      margin-bottom: 4px;\n",
              "    }\n",
              "\n",
              "    [theme=dark] .colab-df-convert {\n",
              "      background-color: #3B4455;\n",
              "      fill: #D2E3FC;\n",
              "    }\n",
              "\n",
              "    [theme=dark] .colab-df-convert:hover {\n",
              "      background-color: #434B5C;\n",
              "      box-shadow: 0px 1px 3px 1px rgba(0, 0, 0, 0.15);\n",
              "      filter: drop-shadow(0px 1px 2px rgba(0, 0, 0, 0.3));\n",
              "      fill: #FFFFFF;\n",
              "    }\n",
              "  </style>\n",
              "\n",
              "    <script>\n",
              "      const buttonEl =\n",
              "        document.querySelector('#df-14f12d0f-3f9e-46b7-87f8-a7481abb2b93 button.colab-df-convert');\n",
              "      buttonEl.style.display =\n",
              "        google.colab.kernel.accessAllowed ? 'block' : 'none';\n",
              "\n",
              "      async function convertToInteractive(key) {\n",
              "        const element = document.querySelector('#df-14f12d0f-3f9e-46b7-87f8-a7481abb2b93');\n",
              "        const dataTable =\n",
              "          await google.colab.kernel.invokeFunction('convertToInteractive',\n",
              "                                                    [key], {});\n",
              "        if (!dataTable) return;\n",
              "\n",
              "        const docLinkHtml = 'Like what you see? Visit the ' +\n",
              "          '<a target=\"_blank\" href=https://colab.research.google.com/notebooks/data_table.ipynb>data table notebook</a>'\n",
              "          + ' to learn more about interactive tables.';\n",
              "        element.innerHTML = '';\n",
              "        dataTable['output_type'] = 'display_data';\n",
              "        await google.colab.output.renderOutput(dataTable, element);\n",
              "        const docLink = document.createElement('div');\n",
              "        docLink.innerHTML = docLinkHtml;\n",
              "        element.appendChild(docLink);\n",
              "      }\n",
              "    </script>\n",
              "  </div>\n",
              "\n",
              "\n",
              "<div id=\"df-0770f9e2-67cd-49bb-8085-8013b35bec6e\">\n",
              "  <button class=\"colab-df-quickchart\" onclick=\"quickchart('df-0770f9e2-67cd-49bb-8085-8013b35bec6e')\"\n",
              "            title=\"Suggest charts\"\n",
              "            style=\"display:none;\">\n",
              "\n",
              "<svg xmlns=\"http://www.w3.org/2000/svg\" height=\"24px\"viewBox=\"0 0 24 24\"\n",
              "     width=\"24px\">\n",
              "    <g>\n",
              "        <path d=\"M19 3H5c-1.1 0-2 .9-2 2v14c0 1.1.9 2 2 2h14c1.1 0 2-.9 2-2V5c0-1.1-.9-2-2-2zM9 17H7v-7h2v7zm4 0h-2V7h2v10zm4 0h-2v-4h2v4z\"/>\n",
              "    </g>\n",
              "</svg>\n",
              "  </button>\n",
              "\n",
              "<style>\n",
              "  .colab-df-quickchart {\n",
              "      --bg-color: #E8F0FE;\n",
              "      --fill-color: #1967D2;\n",
              "      --hover-bg-color: #E2EBFA;\n",
              "      --hover-fill-color: #174EA6;\n",
              "      --disabled-fill-color: #AAA;\n",
              "      --disabled-bg-color: #DDD;\n",
              "  }\n",
              "\n",
              "  [theme=dark] .colab-df-quickchart {\n",
              "      --bg-color: #3B4455;\n",
              "      --fill-color: #D2E3FC;\n",
              "      --hover-bg-color: #434B5C;\n",
              "      --hover-fill-color: #FFFFFF;\n",
              "      --disabled-bg-color: #3B4455;\n",
              "      --disabled-fill-color: #666;\n",
              "  }\n",
              "\n",
              "  .colab-df-quickchart {\n",
              "    background-color: var(--bg-color);\n",
              "    border: none;\n",
              "    border-radius: 50%;\n",
              "    cursor: pointer;\n",
              "    display: none;\n",
              "    fill: var(--fill-color);\n",
              "    height: 32px;\n",
              "    padding: 0;\n",
              "    width: 32px;\n",
              "  }\n",
              "\n",
              "  .colab-df-quickchart:hover {\n",
              "    background-color: var(--hover-bg-color);\n",
              "    box-shadow: 0 1px 2px rgba(60, 64, 67, 0.3), 0 1px 3px 1px rgba(60, 64, 67, 0.15);\n",
              "    fill: var(--button-hover-fill-color);\n",
              "  }\n",
              "\n",
              "  .colab-df-quickchart-complete:disabled,\n",
              "  .colab-df-quickchart-complete:disabled:hover {\n",
              "    background-color: var(--disabled-bg-color);\n",
              "    fill: var(--disabled-fill-color);\n",
              "    box-shadow: none;\n",
              "  }\n",
              "\n",
              "  .colab-df-spinner {\n",
              "    border: 2px solid var(--fill-color);\n",
              "    border-color: transparent;\n",
              "    border-bottom-color: var(--fill-color);\n",
              "    animation:\n",
              "      spin 1s steps(1) infinite;\n",
              "  }\n",
              "\n",
              "  @keyframes spin {\n",
              "    0% {\n",
              "      border-color: transparent;\n",
              "      border-bottom-color: var(--fill-color);\n",
              "      border-left-color: var(--fill-color);\n",
              "    }\n",
              "    20% {\n",
              "      border-color: transparent;\n",
              "      border-left-color: var(--fill-color);\n",
              "      border-top-color: var(--fill-color);\n",
              "    }\n",
              "    30% {\n",
              "      border-color: transparent;\n",
              "      border-left-color: var(--fill-color);\n",
              "      border-top-color: var(--fill-color);\n",
              "      border-right-color: var(--fill-color);\n",
              "    }\n",
              "    40% {\n",
              "      border-color: transparent;\n",
              "      border-right-color: var(--fill-color);\n",
              "      border-top-color: var(--fill-color);\n",
              "    }\n",
              "    60% {\n",
              "      border-color: transparent;\n",
              "      border-right-color: var(--fill-color);\n",
              "    }\n",
              "    80% {\n",
              "      border-color: transparent;\n",
              "      border-right-color: var(--fill-color);\n",
              "      border-bottom-color: var(--fill-color);\n",
              "    }\n",
              "    90% {\n",
              "      border-color: transparent;\n",
              "      border-bottom-color: var(--fill-color);\n",
              "    }\n",
              "  }\n",
              "</style>\n",
              "\n",
              "  <script>\n",
              "    async function quickchart(key) {\n",
              "      const quickchartButtonEl =\n",
              "        document.querySelector('#' + key + ' button');\n",
              "      quickchartButtonEl.disabled = true;  // To prevent multiple clicks.\n",
              "      quickchartButtonEl.classList.add('colab-df-spinner');\n",
              "      try {\n",
              "        const charts = await google.colab.kernel.invokeFunction(\n",
              "            'suggestCharts', [key], {});\n",
              "      } catch (error) {\n",
              "        console.error('Error during call to suggestCharts:', error);\n",
              "      }\n",
              "      quickchartButtonEl.classList.remove('colab-df-spinner');\n",
              "      quickchartButtonEl.classList.add('colab-df-quickchart-complete');\n",
              "    }\n",
              "    (() => {\n",
              "      let quickchartButtonEl =\n",
              "        document.querySelector('#df-0770f9e2-67cd-49bb-8085-8013b35bec6e button');\n",
              "      quickchartButtonEl.style.display =\n",
              "        google.colab.kernel.accessAllowed ? 'block' : 'none';\n",
              "    })();\n",
              "  </script>\n",
              "</div>\n",
              "    </div>\n",
              "  </div>\n"
            ]
          },
          "metadata": {},
          "execution_count": 12
        }
      ],
      "source": [
        "df1.head(5)"
      ]
    },
    {
      "cell_type": "code",
      "execution_count": 13,
      "metadata": {
        "colab": {
          "base_uri": "https://localhost:8080/"
        },
        "id": "DzkQrvlH3vvV",
        "outputId": "09525ed5-f60e-4c37-c461-983613f789a1"
      },
      "outputs": [
        {
          "output_type": "execute_result",
          "data": {
            "text/plain": [
              "(8831, 7)"
            ]
          },
          "metadata": {},
          "execution_count": 13
        }
      ],
      "source": [
        "df1.shape"
      ]
    },
    {
      "cell_type": "code",
      "execution_count": 14,
      "metadata": {
        "colab": {
          "base_uri": "https://localhost:8080/"
        },
        "id": "tYSQO6Vh4DD0",
        "outputId": "0fc15e23-accf-4327-ea50-1b5dc5dc5f40"
      },
      "outputs": [
        {
          "output_type": "execute_result",
          "data": {
            "text/plain": [
              "<bound method NDFrame.describe of           id                                 title  \\\n",
              "0     168705                            BloodRayne   \n",
              "1      19766                    Inspector Gadget 2   \n",
              "2     248705            The Visitors: Bastille Day   \n",
              "3      17711  The Adventures of Rocky & Bullwinkle   \n",
              "4        580                     Jaws: The Revenge   \n",
              "...      ...                                   ...   \n",
              "8826   12142                     Alone in the Dark   \n",
              "8827    5491                     Battlefield Earth   \n",
              "8828   11059                     House of the Dead   \n",
              "8829   14164                  Dragonball Evolution   \n",
              "8830   40016            Birdemic: Shock and Terror   \n",
              "\n",
              "                                               overview  popularity  \\\n",
              "0     In 18th-century Romania, after spending much o...      17.499   \n",
              "1     After capturing Claw, all the criminals have g...      20.772   \n",
              "2     Stuck in the corridors of time, Godefroy de Mo...      18.828   \n",
              "3     Rocky and Bullwinkle have been living off the ...      16.436   \n",
              "4     After another deadly shark attack, Ellen Brody...      30.996   \n",
              "...                                                 ...         ...   \n",
              "8826  Edward Carnby is a private investigator specia...      12.499   \n",
              "8827  In the year 3000, man is no match for the Psyc...      19.133   \n",
              "8828  Set on an island off the coast, a techno rave ...      10.795   \n",
              "8829  On his 18th birthday, Goku receives a mystical...      38.646   \n",
              "8830  A platoon of eagles and vultures attacks the r...      13.853   \n",
              "\n",
              "     release_date  vote_average  vote_count  \n",
              "0      2005-10-22         4.105         501  \n",
              "1      2003-03-11         4.100         342  \n",
              "2      2016-03-23         4.090         636  \n",
              "3      2000-06-30         4.075         335  \n",
              "4      1987-07-17         4.064         931  \n",
              "...           ...           ...         ...  \n",
              "8826   2005-01-28         3.228         550  \n",
              "8827   2000-05-12         3.221         761  \n",
              "8828   2003-04-11         3.100         359  \n",
              "8829   2009-03-12         2.891        1925  \n",
              "8830   2010-02-27         2.106         306  \n",
              "\n",
              "[8831 rows x 7 columns]>"
            ]
          },
          "metadata": {},
          "execution_count": 14
        }
      ],
      "source": [
        "df1.describe"
      ]
    },
    {
      "cell_type": "code",
      "execution_count": 15,
      "metadata": {
        "colab": {
          "base_uri": "https://localhost:8080/"
        },
        "id": "vIF2XenU4-X7",
        "outputId": "691dfb07-3d09-4da8-a98e-fb8e19b2af7a"
      },
      "outputs": [
        {
          "output_type": "execute_result",
          "data": {
            "text/plain": [
              "id              0\n",
              "title           0\n",
              "overview        1\n",
              "popularity      0\n",
              "release_date    0\n",
              "vote_average    0\n",
              "vote_count      0\n",
              "dtype: int64"
            ]
          },
          "metadata": {},
          "execution_count": 15
        }
      ],
      "source": [
        "df1.isnull().sum()"
      ]
    },
    {
      "cell_type": "code",
      "execution_count": 16,
      "metadata": {
        "id": "inTobSnAMweE"
      },
      "outputs": [],
      "source": [
        "df1 = df1.dropna()"
      ]
    },
    {
      "cell_type": "code",
      "execution_count": 17,
      "metadata": {
        "colab": {
          "base_uri": "https://localhost:8080/"
        },
        "id": "US7lZ0RD5BfK",
        "outputId": "d17a0d4d-9377-4e8b-ab1b-55069bea4440"
      },
      "outputs": [
        {
          "output_type": "execute_result",
          "data": {
            "text/plain": [
              "id                int64\n",
              "title            object\n",
              "overview         object\n",
              "popularity      float64\n",
              "release_date     object\n",
              "vote_average    float64\n",
              "vote_count        int64\n",
              "dtype: object"
            ]
          },
          "metadata": {},
          "execution_count": 17
        }
      ],
      "source": [
        "df1.dtypes"
      ]
    },
    {
      "cell_type": "code",
      "execution_count": 18,
      "metadata": {
        "colab": {
          "base_uri": "https://localhost:8080/",
          "height": 230
        },
        "id": "1dS0RgME5ENq",
        "outputId": "983d6f8a-7e23-415a-bff2-02e01a8953aa"
      },
      "outputs": [
        {
          "output_type": "stream",
          "name": "stderr",
          "text": [
            "<ipython-input-18-49b3fcfeb4d1>:1: FutureWarning: The default value of numeric_only in DataFrame.corr is deprecated. In a future version, it will default to False. Select only valid columns or specify the value of numeric_only to silence this warning.\n",
            "  df1.corr()\n"
          ]
        },
        {
          "output_type": "execute_result",
          "data": {
            "text/plain": [
              "                    id  popularity  vote_average  vote_count\n",
              "id            1.000000    0.161383      0.030725   -0.076822\n",
              "popularity    0.161383    1.000000      0.141408    0.331585\n",
              "vote_average  0.030725    0.141408      1.000000    0.278212\n",
              "vote_count   -0.076822    0.331585      0.278212    1.000000"
            ],
            "text/html": [
              "\n",
              "  <div id=\"df-1f60431a-8065-4d4f-9d2e-deb4c8300f7e\" class=\"colab-df-container\">\n",
              "    <div>\n",
              "<style scoped>\n",
              "    .dataframe tbody tr th:only-of-type {\n",
              "        vertical-align: middle;\n",
              "    }\n",
              "\n",
              "    .dataframe tbody tr th {\n",
              "        vertical-align: top;\n",
              "    }\n",
              "\n",
              "    .dataframe thead th {\n",
              "        text-align: right;\n",
              "    }\n",
              "</style>\n",
              "<table border=\"1\" class=\"dataframe\">\n",
              "  <thead>\n",
              "    <tr style=\"text-align: right;\">\n",
              "      <th></th>\n",
              "      <th>id</th>\n",
              "      <th>popularity</th>\n",
              "      <th>vote_average</th>\n",
              "      <th>vote_count</th>\n",
              "    </tr>\n",
              "  </thead>\n",
              "  <tbody>\n",
              "    <tr>\n",
              "      <th>id</th>\n",
              "      <td>1.000000</td>\n",
              "      <td>0.161383</td>\n",
              "      <td>0.030725</td>\n",
              "      <td>-0.076822</td>\n",
              "    </tr>\n",
              "    <tr>\n",
              "      <th>popularity</th>\n",
              "      <td>0.161383</td>\n",
              "      <td>1.000000</td>\n",
              "      <td>0.141408</td>\n",
              "      <td>0.331585</td>\n",
              "    </tr>\n",
              "    <tr>\n",
              "      <th>vote_average</th>\n",
              "      <td>0.030725</td>\n",
              "      <td>0.141408</td>\n",
              "      <td>1.000000</td>\n",
              "      <td>0.278212</td>\n",
              "    </tr>\n",
              "    <tr>\n",
              "      <th>vote_count</th>\n",
              "      <td>-0.076822</td>\n",
              "      <td>0.331585</td>\n",
              "      <td>0.278212</td>\n",
              "      <td>1.000000</td>\n",
              "    </tr>\n",
              "  </tbody>\n",
              "</table>\n",
              "</div>\n",
              "    <div class=\"colab-df-buttons\">\n",
              "\n",
              "  <div class=\"colab-df-container\">\n",
              "    <button class=\"colab-df-convert\" onclick=\"convertToInteractive('df-1f60431a-8065-4d4f-9d2e-deb4c8300f7e')\"\n",
              "            title=\"Convert this dataframe to an interactive table.\"\n",
              "            style=\"display:none;\">\n",
              "\n",
              "  <svg xmlns=\"http://www.w3.org/2000/svg\" height=\"24px\" viewBox=\"0 -960 960 960\">\n",
              "    <path d=\"M120-120v-720h720v720H120Zm60-500h600v-160H180v160Zm220 220h160v-160H400v160Zm0 220h160v-160H400v160ZM180-400h160v-160H180v160Zm440 0h160v-160H620v160ZM180-180h160v-160H180v160Zm440 0h160v-160H620v160Z\"/>\n",
              "  </svg>\n",
              "    </button>\n",
              "\n",
              "  <style>\n",
              "    .colab-df-container {\n",
              "      display:flex;\n",
              "      gap: 12px;\n",
              "    }\n",
              "\n",
              "    .colab-df-convert {\n",
              "      background-color: #E8F0FE;\n",
              "      border: none;\n",
              "      border-radius: 50%;\n",
              "      cursor: pointer;\n",
              "      display: none;\n",
              "      fill: #1967D2;\n",
              "      height: 32px;\n",
              "      padding: 0 0 0 0;\n",
              "      width: 32px;\n",
              "    }\n",
              "\n",
              "    .colab-df-convert:hover {\n",
              "      background-color: #E2EBFA;\n",
              "      box-shadow: 0px 1px 2px rgba(60, 64, 67, 0.3), 0px 1px 3px 1px rgba(60, 64, 67, 0.15);\n",
              "      fill: #174EA6;\n",
              "    }\n",
              "\n",
              "    .colab-df-buttons div {\n",
              "      margin-bottom: 4px;\n",
              "    }\n",
              "\n",
              "    [theme=dark] .colab-df-convert {\n",
              "      background-color: #3B4455;\n",
              "      fill: #D2E3FC;\n",
              "    }\n",
              "\n",
              "    [theme=dark] .colab-df-convert:hover {\n",
              "      background-color: #434B5C;\n",
              "      box-shadow: 0px 1px 3px 1px rgba(0, 0, 0, 0.15);\n",
              "      filter: drop-shadow(0px 1px 2px rgba(0, 0, 0, 0.3));\n",
              "      fill: #FFFFFF;\n",
              "    }\n",
              "  </style>\n",
              "\n",
              "    <script>\n",
              "      const buttonEl =\n",
              "        document.querySelector('#df-1f60431a-8065-4d4f-9d2e-deb4c8300f7e button.colab-df-convert');\n",
              "      buttonEl.style.display =\n",
              "        google.colab.kernel.accessAllowed ? 'block' : 'none';\n",
              "\n",
              "      async function convertToInteractive(key) {\n",
              "        const element = document.querySelector('#df-1f60431a-8065-4d4f-9d2e-deb4c8300f7e');\n",
              "        const dataTable =\n",
              "          await google.colab.kernel.invokeFunction('convertToInteractive',\n",
              "                                                    [key], {});\n",
              "        if (!dataTable) return;\n",
              "\n",
              "        const docLinkHtml = 'Like what you see? Visit the ' +\n",
              "          '<a target=\"_blank\" href=https://colab.research.google.com/notebooks/data_table.ipynb>data table notebook</a>'\n",
              "          + ' to learn more about interactive tables.';\n",
              "        element.innerHTML = '';\n",
              "        dataTable['output_type'] = 'display_data';\n",
              "        await google.colab.output.renderOutput(dataTable, element);\n",
              "        const docLink = document.createElement('div');\n",
              "        docLink.innerHTML = docLinkHtml;\n",
              "        element.appendChild(docLink);\n",
              "      }\n",
              "    </script>\n",
              "  </div>\n",
              "\n",
              "\n",
              "<div id=\"df-07698538-e347-4859-a0e1-510c0f4d54aa\">\n",
              "  <button class=\"colab-df-quickchart\" onclick=\"quickchart('df-07698538-e347-4859-a0e1-510c0f4d54aa')\"\n",
              "            title=\"Suggest charts\"\n",
              "            style=\"display:none;\">\n",
              "\n",
              "<svg xmlns=\"http://www.w3.org/2000/svg\" height=\"24px\"viewBox=\"0 0 24 24\"\n",
              "     width=\"24px\">\n",
              "    <g>\n",
              "        <path d=\"M19 3H5c-1.1 0-2 .9-2 2v14c0 1.1.9 2 2 2h14c1.1 0 2-.9 2-2V5c0-1.1-.9-2-2-2zM9 17H7v-7h2v7zm4 0h-2V7h2v10zm4 0h-2v-4h2v4z\"/>\n",
              "    </g>\n",
              "</svg>\n",
              "  </button>\n",
              "\n",
              "<style>\n",
              "  .colab-df-quickchart {\n",
              "      --bg-color: #E8F0FE;\n",
              "      --fill-color: #1967D2;\n",
              "      --hover-bg-color: #E2EBFA;\n",
              "      --hover-fill-color: #174EA6;\n",
              "      --disabled-fill-color: #AAA;\n",
              "      --disabled-bg-color: #DDD;\n",
              "  }\n",
              "\n",
              "  [theme=dark] .colab-df-quickchart {\n",
              "      --bg-color: #3B4455;\n",
              "      --fill-color: #D2E3FC;\n",
              "      --hover-bg-color: #434B5C;\n",
              "      --hover-fill-color: #FFFFFF;\n",
              "      --disabled-bg-color: #3B4455;\n",
              "      --disabled-fill-color: #666;\n",
              "  }\n",
              "\n",
              "  .colab-df-quickchart {\n",
              "    background-color: var(--bg-color);\n",
              "    border: none;\n",
              "    border-radius: 50%;\n",
              "    cursor: pointer;\n",
              "    display: none;\n",
              "    fill: var(--fill-color);\n",
              "    height: 32px;\n",
              "    padding: 0;\n",
              "    width: 32px;\n",
              "  }\n",
              "\n",
              "  .colab-df-quickchart:hover {\n",
              "    background-color: var(--hover-bg-color);\n",
              "    box-shadow: 0 1px 2px rgba(60, 64, 67, 0.3), 0 1px 3px 1px rgba(60, 64, 67, 0.15);\n",
              "    fill: var(--button-hover-fill-color);\n",
              "  }\n",
              "\n",
              "  .colab-df-quickchart-complete:disabled,\n",
              "  .colab-df-quickchart-complete:disabled:hover {\n",
              "    background-color: var(--disabled-bg-color);\n",
              "    fill: var(--disabled-fill-color);\n",
              "    box-shadow: none;\n",
              "  }\n",
              "\n",
              "  .colab-df-spinner {\n",
              "    border: 2px solid var(--fill-color);\n",
              "    border-color: transparent;\n",
              "    border-bottom-color: var(--fill-color);\n",
              "    animation:\n",
              "      spin 1s steps(1) infinite;\n",
              "  }\n",
              "\n",
              "  @keyframes spin {\n",
              "    0% {\n",
              "      border-color: transparent;\n",
              "      border-bottom-color: var(--fill-color);\n",
              "      border-left-color: var(--fill-color);\n",
              "    }\n",
              "    20% {\n",
              "      border-color: transparent;\n",
              "      border-left-color: var(--fill-color);\n",
              "      border-top-color: var(--fill-color);\n",
              "    }\n",
              "    30% {\n",
              "      border-color: transparent;\n",
              "      border-left-color: var(--fill-color);\n",
              "      border-top-color: var(--fill-color);\n",
              "      border-right-color: var(--fill-color);\n",
              "    }\n",
              "    40% {\n",
              "      border-color: transparent;\n",
              "      border-right-color: var(--fill-color);\n",
              "      border-top-color: var(--fill-color);\n",
              "    }\n",
              "    60% {\n",
              "      border-color: transparent;\n",
              "      border-right-color: var(--fill-color);\n",
              "    }\n",
              "    80% {\n",
              "      border-color: transparent;\n",
              "      border-right-color: var(--fill-color);\n",
              "      border-bottom-color: var(--fill-color);\n",
              "    }\n",
              "    90% {\n",
              "      border-color: transparent;\n",
              "      border-bottom-color: var(--fill-color);\n",
              "    }\n",
              "  }\n",
              "</style>\n",
              "\n",
              "  <script>\n",
              "    async function quickchart(key) {\n",
              "      const quickchartButtonEl =\n",
              "        document.querySelector('#' + key + ' button');\n",
              "      quickchartButtonEl.disabled = true;  // To prevent multiple clicks.\n",
              "      quickchartButtonEl.classList.add('colab-df-spinner');\n",
              "      try {\n",
              "        const charts = await google.colab.kernel.invokeFunction(\n",
              "            'suggestCharts', [key], {});\n",
              "      } catch (error) {\n",
              "        console.error('Error during call to suggestCharts:', error);\n",
              "      }\n",
              "      quickchartButtonEl.classList.remove('colab-df-spinner');\n",
              "      quickchartButtonEl.classList.add('colab-df-quickchart-complete');\n",
              "    }\n",
              "    (() => {\n",
              "      let quickchartButtonEl =\n",
              "        document.querySelector('#df-07698538-e347-4859-a0e1-510c0f4d54aa button');\n",
              "      quickchartButtonEl.style.display =\n",
              "        google.colab.kernel.accessAllowed ? 'block' : 'none';\n",
              "    })();\n",
              "  </script>\n",
              "</div>\n",
              "    </div>\n",
              "  </div>\n"
            ]
          },
          "metadata": {},
          "execution_count": 18
        }
      ],
      "source": [
        "df1.corr()"
      ]
    },
    {
      "cell_type": "markdown",
      "metadata": {
        "id": "qTO9_9do7RPz"
      },
      "source": [
        "## ➿ **Data transformation**"
      ]
    },
    {
      "cell_type": "code",
      "execution_count": 19,
      "metadata": {
        "id": "iz7KdtEI9x3G"
      },
      "outputs": [],
      "source": [
        "df2 = df1.copy()\n",
        "\n",
        "columns_to_drop = ['id']\n",
        "df2 = df2.drop(columns=columns_to_drop)"
      ]
    },
    {
      "cell_type": "code",
      "execution_count": 20,
      "metadata": {
        "id": "Pv1XL__-9-xr"
      },
      "outputs": [],
      "source": [
        "df2['title_length'] = df1['title'].apply(len)"
      ]
    },
    {
      "cell_type": "code",
      "execution_count": 21,
      "metadata": {
        "colab": {
          "base_uri": "https://localhost:8080/",
          "height": 564
        },
        "id": "0UlzI7bCupxF",
        "outputId": "e8941ea8-73ae-4698-8314-725b021fffa9"
      },
      "outputs": [
        {
          "output_type": "display_data",
          "data": {
            "text/plain": [
              "<Figure size 1000x600 with 1 Axes>"
            ],
            "image/png": "[encoded data removed]"
          },
          "metadata": {}
        }
      ],
      "source": [
        "import matplotlib.pyplot as plt\n",
        "\n",
        "popularity_values = df2['vote_average']\n",
        "\n",
        "plt.figure(figsize=(10, 6))\n",
        "plt.hist(popularity_values, bins=200, color='skyblue', edgecolor='black')\n",
        "plt.title('Distribution of vote_average Values')\n",
        "plt.xlabel('Popularity')\n",
        "plt.ylabel('Frequency')\n",
        "plt.grid(axis='y', linestyle='--', alpha=0.7)\n",
        "plt.show()"
      ]
    },
    {
      "cell_type": "code",
      "execution_count": 22,
      "metadata": {
        "id": "b24OAuDsuGJL"
      },
      "outputs": [],
      "source": [
        "from sklearn.preprocessing import LabelEncoder\n",
        "import numpy as np\n",
        "\n",
        "conditions = [\n",
        "    (df2['vote_average'] < 3),\n",
        "    (df2['vote_average'] >= 3) & (df2['vote_average'] < 4.5),\n",
        "    (df2['vote_average'] >= 4.5) & (df2['vote_average'] < 5.5),\n",
        "    (df2['vote_average'] >= 5.5) & (df2['vote_average'] < 6.5),\n",
        "    (df2['vote_average'] >= 6.5) & (df2['vote_average'] < 7.5),\n",
        "    (df2['vote_average'] >= 7.5) & (df2['vote_average'] < 8),\n",
        "    (df2['vote_average'] >= 8)\n",
        "]\n",
        "\n",
        "values = ['very bad', 'bad', 'mediocre', 'acceptable', 'good', 'very good', 'excellent']\n",
        "\n",
        "df2['popularity_class'] = np.select(conditions, values)\n",
        "\n",
        "label_encoder = LabelEncoder()\n",
        "df2['popularity_class_labels'] = label_encoder.fit_transform(df2['popularity_class'])\n",
        "\n",
        "df2['overview_len'] = df2['overview'].apply(len)\n",
        "\n",
        "# Convert 'release_date' to the number of days since the minimum date\n",
        "min_date = min(pd.to_datetime(df2['release_date']))\n",
        "df2['release_date'] = (pd.to_datetime(df2['release_date']) - min_date).dt.days"
      ]
    },
    {
      "cell_type": "code",
      "execution_count": 23,
      "metadata": {
        "colab": {
          "base_uri": "https://localhost:8080/",
          "height": 206
        },
        "id": "gnd2sqRc-Bvx",
        "outputId": "fcba9ecc-619d-4f6d-ef20-788317f154fb"
      },
      "outputs": [
        {
          "output_type": "execute_result",
          "data": {
            "text/plain": [
              "                                  title  \\\n",
              "0                            BloodRayne   \n",
              "1                    Inspector Gadget 2   \n",
              "2            The Visitors: Bastille Day   \n",
              "3  The Adventures of Rocky & Bullwinkle   \n",
              "4                     Jaws: The Revenge   \n",
              "\n",
              "                                            overview  popularity  \\\n",
              "0  In 18th-century Romania, after spending much o...      17.499   \n",
              "1  After capturing Claw, all the criminals have g...      20.772   \n",
              "2  Stuck in the corridors of time, Godefroy de Mo...      18.828   \n",
              "3  Rocky and Bullwinkle have been living off the ...      16.436   \n",
              "4  After another deadly shark attack, Ellen Brody...      30.996   \n",
              "\n",
              "   release_date  vote_average  vote_count  title_length popularity_class  \\\n",
              "0         37809         4.105         501            10              bad   \n",
              "1         36853         4.100         342            18              bad   \n",
              "2         41614         4.090         636            26              bad   \n",
              "3         35869         4.075         335            36              bad   \n",
              "4         31137         4.064         931            17              bad   \n",
              "\n",
              "   popularity_class_labels  overview_len  \n",
              "0                        1           359  \n",
              "1                        1           348  \n",
              "2                        1           406  \n",
              "3                        1           337  \n",
              "4                        1           243  "
            ],
            "text/html": [
              "\n",
              "  <div id=\"df-8b5b9c20-21c3-4360-95fe-6204b24e5d37\" class=\"colab-df-container\">\n",
              "    <div>\n",
              "<style scoped>\n",
              "    .dataframe tbody tr th:only-of-type {\n",
              "        vertical-align: middle;\n",
              "    }\n",
              "\n",
              "    .dataframe tbody tr th {\n",
              "        vertical-align: top;\n",
              "    }\n",
              "\n",
              "    .dataframe thead th {\n",
              "        text-align: right;\n",
              "    }\n",
              "</style>\n",
              "<table border=\"1\" class=\"dataframe\">\n",
              "  <thead>\n",
              "    <tr style=\"text-align: right;\">\n",
              "      <th></th>\n",
              "      <th>title</th>\n",
              "      <th>overview</th>\n",
              "      <th>popularity</th>\n",
              "      <th>release_date</th>\n",
              "      <th>vote_average</th>\n",
              "      <th>vote_count</th>\n",
              "      <th>title_length</th>\n",
              "      <th>popularity_class</th>\n",
              "      <th>popularity_class_labels</th>\n",
              "      <th>overview_len</th>\n",
              "    </tr>\n",
              "  </thead>\n",
              "  <tbody>\n",
              "    <tr>\n",
              "      <th>0</th>\n",
              "      <td>BloodRayne</td>\n",
              "      <td>In 18th-century Romania, after spending much o...</td>\n",
              "      <td>17.499</td>\n",
              "      <td>37809</td>\n",
              "      <td>4.105</td>\n",
              "      <td>501</td>\n",
              "      <td>10</td>\n",
              "      <td>bad</td>\n",
              "      <td>1</td>\n",
              "      <td>359</td>\n",
              "    </tr>\n",
              "    <tr>\n",
              "      <th>1</th>\n",
              "      <td>Inspector Gadget 2</td>\n",
              "      <td>After capturing Claw, all the criminals have g...</td>\n",
              "      <td>20.772</td>\n",
              "      <td>36853</td>\n",
              "      <td>4.100</td>\n",
              "      <td>342</td>\n",
              "      <td>18</td>\n",
              "      <td>bad</td>\n",
              "      <td>1</td>\n",
              "      <td>348</td>\n",
              "    </tr>\n",
              "    <tr>\n",
              "      <th>2</th>\n",
              "      <td>The Visitors: Bastille Day</td>\n",
              "      <td>Stuck in the corridors of time, Godefroy de Mo...</td>\n",
              "      <td>18.828</td>\n",
              "      <td>41614</td>\n",
              "      <td>4.090</td>\n",
              "      <td>636</td>\n",
              "      <td>26</td>\n",
              "      <td>bad</td>\n",
              "      <td>1</td>\n",
              "      <td>406</td>\n",
              "    </tr>\n",
              "    <tr>\n",
              "      <th>3</th>\n",
              "      <td>The Adventures of Rocky &amp; Bullwinkle</td>\n",
              "      <td>Rocky and Bullwinkle have been living off the ...</td>\n",
              "      <td>16.436</td>\n",
              "      <td>35869</td>\n",
              "      <td>4.075</td>\n",
              "      <td>335</td>\n",
              "      <td>36</td>\n",
              "      <td>bad</td>\n",
              "      <td>1</td>\n",
              "      <td>337</td>\n",
              "    </tr>\n",
              "    <tr>\n",
              "      <th>4</th>\n",
              "      <td>Jaws: The Revenge</td>\n",
              "      <td>After another deadly shark attack, Ellen Brody...</td>\n",
              "      <td>30.996</td>\n",
              "      <td>31137</td>\n",
              "      <td>4.064</td>\n",
              "      <td>931</td>\n",
              "      <td>17</td>\n",
              "      <td>bad</td>\n",
              "      <td>1</td>\n",
              "      <td>243</td>\n",
              "    </tr>\n",
              "  </tbody>\n",
              "</table>\n",
              "</div>\n",
              "    <div class=\"colab-df-buttons\">\n",
              "\n",
              "  <div class=\"colab-df-container\">\n",
              "    <button class=\"colab-df-convert\" onclick=\"convertToInteractive('df-8b5b9c20-21c3-4360-95fe-6204b24e5d37')\"\n",
              "            title=\"Convert this dataframe to an interactive table.\"\n",
              "            style=\"display:none;\">\n",
              "\n",
              "  <svg xmlns=\"http://www.w3.org/2000/svg\" height=\"24px\" viewBox=\"0 -960 960 960\">\n",
              "    <path d=\"M120-120v-720h720v720H120Zm60-500h600v-160H180v160Zm220 220h160v-160H400v160Zm0 220h160v-160H400v160ZM180-400h160v-160H180v160Zm440 0h160v-160H620v160ZM180-180h160v-160H180v160Zm440 0h160v-160H620v160Z\"/>\n",
              "  </svg>\n",
              "    </button>\n",
              "\n",
              "  <style>\n",
              "    .colab-df-container {\n",
              "      display:flex;\n",
              "      gap: 12px;\n",
              "    }\n",
              "\n",
              "    .colab-df-convert {\n",
              "      background-color: #E8F0FE;\n",
              "      border: none;\n",
              "      border-radius: 50%;\n",
              "      cursor: pointer;\n",
              "      display: none;\n",
              "      fill: #1967D2;\n",
              "      height: 32px;\n",
              "      padding: 0 0 0 0;\n",
              "      width: 32px;\n",
              "    }\n",
              "\n",
              "    .colab-df-convert:hover {\n",
              "      background-color: #E2EBFA;\n",
              "      box-shadow: 0px 1px 2px rgba(60, 64, 67, 0.3), 0px 1px 3px 1px rgba(60, 64, 67, 0.15);\n",
              "      fill: #174EA6;\n",
              "    }\n",
              "\n",
              "    .colab-df-buttons div {\n",
              "      margin-bottom: 4px;\n",
              "    }\n",
              "\n",
              "    [theme=dark] .colab-df-convert {\n",
              "      background-color: #3B4455;\n",
              "      fill: #D2E3FC;\n",
              "    }\n",
              "\n",
              "    [theme=dark] .colab-df-convert:hover {\n",
              "      background-color: #434B5C;\n",
              "      box-shadow: 0px 1px 3px 1px rgba(0, 0, 0, 0.15);\n",
              "      filter: drop-shadow(0px 1px 2px rgba(0, 0, 0, 0.3));\n",
              "      fill: #FFFFFF;\n",
              "    }\n",
              "  </style>\n",
              "\n",
              "    <script>\n",
              "      const buttonEl =\n",
              "        document.querySelector('#df-8b5b9c20-21c3-4360-95fe-6204b24e5d37 button.colab-df-convert');\n",
              "      buttonEl.style.display =\n",
              "        google.colab.kernel.accessAllowed ? 'block' : 'none';\n",
              "\n",
              "      async function convertToInteractive(key) {\n",
              "        const element = document.querySelector('#df-8b5b9c20-21c3-4360-95fe-6204b24e5d37');\n",
              "        const dataTable =\n",
              "          await google.colab.kernel.invokeFunction('convertToInteractive',\n",
              "                                                    [key], {});\n",
              "        if (!dataTable) return;\n",
              "\n",
              "        const docLinkHtml = 'Like what you see? Visit the ' +\n",
              "          '<a target=\"_blank\" href=https://colab.research.google.com/notebooks/data_table.ipynb>data table notebook</a>'\n",
              "          + ' to learn more about interactive tables.';\n",
              "        element.innerHTML = '';\n",
              "        dataTable['output_type'] = 'display_data';\n",
              "        await google.colab.output.renderOutput(dataTable, element);\n",
              "        const docLink = document.createElement('div');\n",
              "        docLink.innerHTML = docLinkHtml;\n",
              "        element.appendChild(docLink);\n",
              "      }\n",
              "    </script>\n",
              "  </div>\n",
              "\n",
              "\n",
              "<div id=\"df-270c7afc-b6df-462b-96c0-1ff039d6caa6\">\n",
              "  <button class=\"colab-df-quickchart\" onclick=\"quickchart('df-270c7afc-b6df-462b-96c0-1ff039d6caa6')\"\n",
              "            title=\"Suggest charts\"\n",
              "            style=\"display:none;\">\n",
              "\n",
              "<svg xmlns=\"http://www.w3.org/2000/svg\" height=\"24px\"viewBox=\"0 0 24 24\"\n",
              "     width=\"24px\">\n",
              "    <g>\n",
              "        <path d=\"M19 3H5c-1.1 0-2 .9-2 2v14c0 1.1.9 2 2 2h14c1.1 0 2-.9 2-2V5c0-1.1-.9-2-2-2zM9 17H7v-7h2v7zm4 0h-2V7h2v10zm4 0h-2v-4h2v4z\"/>\n",
              "    </g>\n",
              "</svg>\n",
              "  </button>\n",
              "\n",
              "<style>\n",
              "  .colab-df-quickchart {\n",
              "      --bg-color: #E8F0FE;\n",
              "      --fill-color: #1967D2;\n",
              "      --hover-bg-color: #E2EBFA;\n",
              "      --hover-fill-color: #174EA6;\n",
              "      --disabled-fill-color: #AAA;\n",
              "      --disabled-bg-color: #DDD;\n",
              "  }\n",
              "\n",
              "  [theme=dark] .colab-df-quickchart {\n",
              "      --bg-color: #3B4455;\n",
              "      --fill-color: #D2E3FC;\n",
              "      --hover-bg-color: #434B5C;\n",
              "      --hover-fill-color: #FFFFFF;\n",
              "      --disabled-bg-color: #3B4455;\n",
              "      --disabled-fill-color: #666;\n",
              "  }\n",
              "\n",
              "  .colab-df-quickchart {\n",
              "    background-color: var(--bg-color);\n",
              "    border: none;\n",
              "    border-radius: 50%;\n",
              "    cursor: pointer;\n",
              "    display: none;\n",
              "    fill: var(--fill-color);\n",
              "    height: 32px;\n",
              "    padding: 0;\n",
              "    width: 32px;\n",
              "  }\n",
              "\n",
              "  .colab-df-quickchart:hover {\n",
              "    background-color: var(--hover-bg-color);\n",
              "    box-shadow: 0 1px 2px rgba(60, 64, 67, 0.3), 0 1px 3px 1px rgba(60, 64, 67, 0.15);\n",
              "    fill: var(--button-hover-fill-color);\n",
              "  }\n",
              "\n",
              "  .colab-df-quickchart-complete:disabled,\n",
              "  .colab-df-quickchart-complete:disabled:hover {\n",
              "    background-color: var(--disabled-bg-color);\n",
              "    fill: var(--disabled-fill-color);\n",
              "    box-shadow: none;\n",
              "  }\n",
              "\n",
              "  .colab-df-spinner {\n",
              "    border: 2px solid var(--fill-color);\n",
              "    border-color: transparent;\n",
              "    border-bottom-color: var(--fill-color);\n",
              "    animation:\n",
              "      spin 1s steps(1) infinite;\n",
              "  }\n",
              "\n",
              "  @keyframes spin {\n",
              "    0% {\n",
              "      border-color: transparent;\n",
              "      border-bottom-color: var(--fill-color);\n",
              "      border-left-color: var(--fill-color);\n",
              "    }\n",
              "    20% {\n",
              "      border-color: transparent;\n",
              "      border-left-color: var(--fill-color);\n",
              "      border-top-color: var(--fill-color);\n",
              "    }\n",
              "    30% {\n",
              "      border-color: transparent;\n",
              "      border-left-color: var(--fill-color);\n",
              "      border-top-color: var(--fill-color);\n",
              "      border-right-color: var(--fill-color);\n",
              "    }\n",
              "    40% {\n",
              "      border-color: transparent;\n",
              "      border-right-color: var(--fill-color);\n",
              "      border-top-color: var(--fill-color);\n",
              "    }\n",
              "    60% {\n",
              "      border-color: transparent;\n",
              "      border-right-color: var(--fill-color);\n",
              "    }\n",
              "    80% {\n",
              "      border-color: transparent;\n",
              "      border-right-color: var(--fill-color);\n",
              "      border-bottom-color: var(--fill-color);\n",
              "    }\n",
              "    90% {\n",
              "      border-color: transparent;\n",
              "      border-bottom-color: var(--fill-color);\n",
              "    }\n",
              "  }\n",
              "</style>\n",
              "\n",
              "  <script>\n",
              "    async function quickchart(key) {\n",
              "      const quickchartButtonEl =\n",
              "        document.querySelector('#' + key + ' button');\n",
              "      quickchartButtonEl.disabled = true;  // To prevent multiple clicks.\n",
              "      quickchartButtonEl.classList.add('colab-df-spinner');\n",
              "      try {\n",
              "        const charts = await google.colab.kernel.invokeFunction(\n",
              "            'suggestCharts', [key], {});\n",
              "      } catch (error) {\n",
              "        console.error('Error during call to suggestCharts:', error);\n",
              "      }\n",
              "      quickchartButtonEl.classList.remove('colab-df-spinner');\n",
              "      quickchartButtonEl.classList.add('colab-df-quickchart-complete');\n",
              "    }\n",
              "    (() => {\n",
              "      let quickchartButtonEl =\n",
              "        document.querySelector('#df-270c7afc-b6df-462b-96c0-1ff039d6caa6 button');\n",
              "      quickchartButtonEl.style.display =\n",
              "        google.colab.kernel.accessAllowed ? 'block' : 'none';\n",
              "    })();\n",
              "  </script>\n",
              "</div>\n",
              "    </div>\n",
              "  </div>\n"
            ]
          },
          "metadata": {},
          "execution_count": 23
        }
      ],
      "source": [
        "df2.head()"
      ]
    },
    {
      "cell_type": "code",
      "execution_count": 24,
      "metadata": {
        "colab": {
          "base_uri": "https://localhost:8080/"
        },
        "id": "Qr8rXJYe-NNo",
        "outputId": "f6a1fda3-894f-4d72-db36-ce27d67664f4"
      },
      "outputs": [
        {
          "output_type": "execute_result",
          "data": {
            "text/plain": [
              "good          3857\n",
              "acceptable    3056\n",
              "very good      948\n",
              "mediocre       583\n",
              "excellent      304\n",
              "bad             80\n",
              "very bad         2\n",
              "Name: popularity_class, dtype: int64"
            ]
          },
          "metadata": {},
          "execution_count": 24
        }
      ],
      "source": [
        "popularity_counts = df2['popularity_class'].value_counts()\n",
        "popularity_counts"
      ]
    },
    {
      "cell_type": "code",
      "execution_count": 25,
      "metadata": {
        "colab": {
          "base_uri": "https://localhost:8080/"
        },
        "id": "rG1GyTcDxzN7",
        "outputId": "d49f45bf-dc1f-4050-aff9-f06a35fabe81"
      },
      "outputs": [
        {
          "output_type": "execute_result",
          "data": {
            "text/plain": [
              "3    3857\n",
              "0    3056\n",
              "6     948\n",
              "4     583\n",
              "2     304\n",
              "1      80\n",
              "5       2\n",
              "Name: popularity_class_labels, dtype: int64"
            ]
          },
          "metadata": {},
          "execution_count": 25
        }
      ],
      "source": [
        "popularity_counts = df2['popularity_class_labels'].value_counts()\n",
        "popularity_counts"
      ]
    },
    {
      "cell_type": "code",
      "execution_count": 26,
      "metadata": {
        "colab": {
          "base_uri": "https://localhost:8080/"
        },
        "id": "hdc_1bV1yiQy",
        "outputId": "d62a61fe-5ef0-4ff8-f849-a5b4bef7dfb1"
      },
      "outputs": [
        {
          "output_type": "execute_result",
          "data": {
            "text/plain": [
              "(998, 14)"
            ]
          },
          "metadata": {},
          "execution_count": 26
        }
      ],
      "source": [
        "max_overview = df2['overview_len'].max()\n",
        "min_overview = df2['overview_len'].min()\n",
        "\n",
        "max_overview, min_overview"
      ]
    },
    {
      "cell_type": "code",
      "execution_count": 27,
      "metadata": {
        "colab": {
          "base_uri": "https://localhost:8080/"
        },
        "id": "jaioD6Cxx1I2",
        "outputId": "35aa8bc6-6727-403d-8605-df80e3c7c826"
      },
      "outputs": [
        {
          "output_type": "execute_result",
          "data": {
            "text/plain": [
              "(83, 1)"
            ]
          },
          "metadata": {},
          "execution_count": 27
        }
      ],
      "source": [
        "max_title = df2['title_length'].max()\n",
        "min_title = df2['title_length'].min()\n",
        "\n",
        "max_title, min_title"
      ]
    },
    {
      "cell_type": "markdown",
      "metadata": {
        "id": "n_VH6Byl5dxI"
      },
      "source": [
        "## 📈 **Dataset features**"
      ]
    },
    {
      "cell_type": "code",
      "execution_count": 28,
      "metadata": {
        "colab": {
          "base_uri": "https://localhost:8080/",
          "height": 143
        },
        "id": "Ktd0Wygy5Yii",
        "outputId": "8ad1d3c0-14f7-49cd-a4db-9ca9484d3ec0"
      },
      "outputs": [
        {
          "output_type": "execute_result",
          "data": {
            "text/plain": [
              "   release_date  title_length  overview_len  vote_count  popularity\n",
              "0         37809            10           359         501      17.499\n",
              "1         36853            18           348         342      20.772\n",
              "2         41614            26           406         636      18.828"
            ],
            "text/html": [
              "\n",
              "  <div id=\"df-075ecb74-8c91-4068-96be-ecb31d4460a4\" class=\"colab-df-container\">\n",
              "    <div>\n",
              "<style scoped>\n",
              "    .dataframe tbody tr th:only-of-type {\n",
              "        vertical-align: middle;\n",
              "    }\n",
              "\n",
              "    .dataframe tbody tr th {\n",
              "        vertical-align: top;\n",
              "    }\n",
              "\n",
              "    .dataframe thead th {\n",
              "        text-align: right;\n",
              "    }\n",
              "</style>\n",
              "<table border=\"1\" class=\"dataframe\">\n",
              "  <thead>\n",
              "    <tr style=\"text-align: right;\">\n",
              "      <th></th>\n",
              "      <th>release_date</th>\n",
              "      <th>title_length</th>\n",
              "      <th>overview_len</th>\n",
              "      <th>vote_count</th>\n",
              "      <th>popularity</th>\n",
              "    </tr>\n",
              "  </thead>\n",
              "  <tbody>\n",
              "    <tr>\n",
              "      <th>0</th>\n",
              "      <td>37809</td>\n",
              "      <td>10</td>\n",
              "      <td>359</td>\n",
              "      <td>501</td>\n",
              "      <td>17.499</td>\n",
              "    </tr>\n",
              "    <tr>\n",
              "      <th>1</th>\n",
              "      <td>36853</td>\n",
              "      <td>18</td>\n",
              "      <td>348</td>\n",
              "      <td>342</td>\n",
              "      <td>20.772</td>\n",
              "    </tr>\n",
              "    <tr>\n",
              "      <th>2</th>\n",
              "      <td>41614</td>\n",
              "      <td>26</td>\n",
              "      <td>406</td>\n",
              "      <td>636</td>\n",
              "      <td>18.828</td>\n",
              "    </tr>\n",
              "  </tbody>\n",
              "</table>\n",
              "</div>\n",
              "    <div class=\"colab-df-buttons\">\n",
              "\n",
              "  <div class=\"colab-df-container\">\n",
              "    <button class=\"colab-df-convert\" onclick=\"convertToInteractive('df-075ecb74-8c91-4068-96be-ecb31d4460a4')\"\n",
              "            title=\"Convert this dataframe to an interactive table.\"\n",
              "            style=\"display:none;\">\n",
              "\n",
              "  <svg xmlns=\"http://www.w3.org/2000/svg\" height=\"24px\" viewBox=\"0 -960 960 960\">\n",
              "    <path d=\"M120-120v-720h720v720H120Zm60-500h600v-160H180v160Zm220 220h160v-160H400v160Zm0 220h160v-160H400v160ZM180-400h160v-160H180v160Zm440 0h160v-160H620v160ZM180-180h160v-160H180v160Zm440 0h160v-160H620v160Z\"/>\n",
              "  </svg>\n",
              "    </button>\n",
              "\n",
              "  <style>\n",
              "    .colab-df-container {\n",
              "      display:flex;\n",
              "      gap: 12px;\n",
              "    }\n",
              "\n",
              "    .colab-df-convert {\n",
              "      background-color: #E8F0FE;\n",
              "      border: none;\n",
              "      border-radius: 50%;\n",
              "      cursor: pointer;\n",
              "      display: none;\n",
              "      fill: #1967D2;\n",
              "      height: 32px;\n",
              "      padding: 0 0 0 0;\n",
              "      width: 32px;\n",
              "    }\n",
              "\n",
              "    .colab-df-convert:hover {\n",
              "      background-color: #E2EBFA;\n",
              "      box-shadow: 0px 1px 2px rgba(60, 64, 67, 0.3), 0px 1px 3px 1px rgba(60, 64, 67, 0.15);\n",
              "      fill: #174EA6;\n",
              "    }\n",
              "\n",
              "    .colab-df-buttons div {\n",
              "      margin-bottom: 4px;\n",
              "    }\n",
              "\n",
              "    [theme=dark] .colab-df-convert {\n",
              "      background-color: #3B4455;\n",
              "      fill: #D2E3FC;\n",
              "    }\n",
              "\n",
              "    [theme=dark] .colab-df-convert:hover {\n",
              "      background-color: #434B5C;\n",
              "      box-shadow: 0px 1px 3px 1px rgba(0, 0, 0, 0.15);\n",
              "      filter: drop-shadow(0px 1px 2px rgba(0, 0, 0, 0.3));\n",
              "      fill: #FFFFFF;\n",
              "    }\n",
              "  </style>\n",
              "\n",
              "    <script>\n",
              "      const buttonEl =\n",
              "        document.querySelector('#df-075ecb74-8c91-4068-96be-ecb31d4460a4 button.colab-df-convert');\n",
              "      buttonEl.style.display =\n",
              "        google.colab.kernel.accessAllowed ? 'block' : 'none';\n",
              "\n",
              "      async function convertToInteractive(key) {\n",
              "        const element = document.querySelector('#df-075ecb74-8c91-4068-96be-ecb31d4460a4');\n",
              "        const dataTable =\n",
              "          await google.colab.kernel.invokeFunction('convertToInteractive',\n",
              "                                                    [key], {});\n",
              "        if (!dataTable) return;\n",
              "\n",
              "        const docLinkHtml = 'Like what you see? Visit the ' +\n",
              "          '<a target=\"_blank\" href=https://colab.research.google.com/notebooks/data_table.ipynb>data table notebook</a>'\n",
              "          + ' to learn more about interactive tables.';\n",
              "        element.innerHTML = '';\n",
              "        dataTable['output_type'] = 'display_data';\n",
              "        await google.colab.output.renderOutput(dataTable, element);\n",
              "        const docLink = document.createElement('div');\n",
              "        docLink.innerHTML = docLinkHtml;\n",
              "        element.appendChild(docLink);\n",
              "      }\n",
              "    </script>\n",
              "  </div>\n",
              "\n",
              "\n",
              "<div id=\"df-d2c076c7-632a-433a-a0a8-d47205f010fb\">\n",
              "  <button class=\"colab-df-quickchart\" onclick=\"quickchart('df-d2c076c7-632a-433a-a0a8-d47205f010fb')\"\n",
              "            title=\"Suggest charts\"\n",
              "            style=\"display:none;\">\n",
              "\n",
              "<svg xmlns=\"http://www.w3.org/2000/svg\" height=\"24px\"viewBox=\"0 0 24 24\"\n",
              "     width=\"24px\">\n",
              "    <g>\n",
              "        <path d=\"M19 3H5c-1.1 0-2 .9-2 2v14c0 1.1.9 2 2 2h14c1.1 0 2-.9 2-2V5c0-1.1-.9-2-2-2zM9 17H7v-7h2v7zm4 0h-2V7h2v10zm4 0h-2v-4h2v4z\"/>\n",
              "    </g>\n",
              "</svg>\n",
              "  </button>\n",
              "\n",
              "<style>\n",
              "  .colab-df-quickchart {\n",
              "      --bg-color: #E8F0FE;\n",
              "      --fill-color: #1967D2;\n",
              "      --hover-bg-color: #E2EBFA;\n",
              "      --hover-fill-color: #174EA6;\n",
              "      --disabled-fill-color: #AAA;\n",
              "      --disabled-bg-color: #DDD;\n",
              "  }\n",
              "\n",
              "  [theme=dark] .colab-df-quickchart {\n",
              "      --bg-color: #3B4455;\n",
              "      --fill-color: #D2E3FC;\n",
              "      --hover-bg-color: #434B5C;\n",
              "      --hover-fill-color: #FFFFFF;\n",
              "      --disabled-bg-color: #3B4455;\n",
              "      --disabled-fill-color: #666;\n",
              "  }\n",
              "\n",
              "  .colab-df-quickchart {\n",
              "    background-color: var(--bg-color);\n",
              "    border: none;\n",
              "    border-radius: 50%;\n",
              "    cursor: pointer;\n",
              "    display: none;\n",
              "    fill: var(--fill-color);\n",
              "    height: 32px;\n",
              "    padding: 0;\n",
              "    width: 32px;\n",
              "  }\n",
              "\n",
              "  .colab-df-quickchart:hover {\n",
              "    background-color: var(--hover-bg-color);\n",
              "    box-shadow: 0 1px 2px rgba(60, 64, 67, 0.3), 0 1px 3px 1px rgba(60, 64, 67, 0.15);\n",
              "    fill: var(--button-hover-fill-color);\n",
              "  }\n",
              "\n",
              "  .colab-df-quickchart-complete:disabled,\n",
              "  .colab-df-quickchart-complete:disabled:hover {\n",
              "    background-color: var(--disabled-bg-color);\n",
              "    fill: var(--disabled-fill-color);\n",
              "    box-shadow: none;\n",
              "  }\n",
              "\n",
              "  .colab-df-spinner {\n",
              "    border: 2px solid var(--fill-color);\n",
              "    border-color: transparent;\n",
              "    border-bottom-color: var(--fill-color);\n",
              "    animation:\n",
              "      spin 1s steps(1) infinite;\n",
              "  }\n",
              "\n",
              "  @keyframes spin {\n",
              "    0% {\n",
              "      border-color: transparent;\n",
              "      border-bottom-color: var(--fill-color);\n",
              "      border-left-color: var(--fill-color);\n",
              "    }\n",
              "    20% {\n",
              "      border-color: transparent;\n",
              "      border-left-color: var(--fill-color);\n",
              "      border-top-color: var(--fill-color);\n",
              "    }\n",
              "    30% {\n",
              "      border-color: transparent;\n",
              "      border-left-color: var(--fill-color);\n",
              "      border-top-color: var(--fill-color);\n",
              "      border-right-color: var(--fill-color);\n",
              "    }\n",
              "    40% {\n",
              "      border-color: transparent;\n",
              "      border-right-color: var(--fill-color);\n",
              "      border-top-color: var(--fill-color);\n",
              "    }\n",
              "    60% {\n",
              "      border-color: transparent;\n",
              "      border-right-color: var(--fill-color);\n",
              "    }\n",
              "    80% {\n",
              "      border-color: transparent;\n",
              "      border-right-color: var(--fill-color);\n",
              "      border-bottom-color: var(--fill-color);\n",
              "    }\n",
              "    90% {\n",
              "      border-color: transparent;\n",
              "      border-bottom-color: var(--fill-color);\n",
              "    }\n",
              "  }\n",
              "</style>\n",
              "\n",
              "  <script>\n",
              "    async function quickchart(key) {\n",
              "      const quickchartButtonEl =\n",
              "        document.querySelector('#' + key + ' button');\n",
              "      quickchartButtonEl.disabled = true;  // To prevent multiple clicks.\n",
              "      quickchartButtonEl.classList.add('colab-df-spinner');\n",
              "      try {\n",
              "        const charts = await google.colab.kernel.invokeFunction(\n",
              "            'suggestCharts', [key], {});\n",
              "      } catch (error) {\n",
              "        console.error('Error during call to suggestCharts:', error);\n",
              "      }\n",
              "      quickchartButtonEl.classList.remove('colab-df-spinner');\n",
              "      quickchartButtonEl.classList.add('colab-df-quickchart-complete');\n",
              "    }\n",
              "    (() => {\n",
              "      let quickchartButtonEl =\n",
              "        document.querySelector('#df-d2c076c7-632a-433a-a0a8-d47205f010fb button');\n",
              "      quickchartButtonEl.style.display =\n",
              "        google.colab.kernel.accessAllowed ? 'block' : 'none';\n",
              "    })();\n",
              "  </script>\n",
              "</div>\n",
              "    </div>\n",
              "  </div>\n"
            ]
          },
          "metadata": {},
          "execution_count": 28
        }
      ],
      "source": [
        "# Targets\n",
        "y_regression = df2['vote_average']\n",
        "y_classification = df2['popularity_class_labels']\n",
        "\n",
        "# Features\n",
        "X_numeric_regression = df2[['release_date', 'title_length', 'overview_len', 'vote_count', 'popularity']]\n",
        "X_numeric_regression.head(3)"
      ]
    },
    {
      "cell_type": "code",
      "execution_count": 29,
      "metadata": {
        "colab": {
          "base_uri": "https://localhost:8080/",
          "height": 143
        },
        "id": "dxzvY0gF6m_Q",
        "outputId": "b29fd0c1-d618-486b-c190-71955ca2234c"
      },
      "outputs": [
        {
          "output_type": "execute_result",
          "data": {
            "text/plain": [
              "   release_date  title_length  overview_len  vote_count  vote_average\n",
              "0         37809            10           359         501         4.105\n",
              "1         36853            18           348         342         4.100\n",
              "2         41614            26           406         636         4.090"
            ],
            "text/html": [
              "\n",
              "  <div id=\"df-6d39d8be-67ca-46df-9b9e-551b3e6c07f2\" class=\"colab-df-container\">\n",
              "    <div>\n",
              "<style scoped>\n",
              "    .dataframe tbody tr th:only-of-type {\n",
              "        vertical-align: middle;\n",
              "    }\n",
              "\n",
              "    .dataframe tbody tr th {\n",
              "        vertical-align: top;\n",
              "    }\n",
              "\n",
              "    .dataframe thead th {\n",
              "        text-align: right;\n",
              "    }\n",
              "</style>\n",
              "<table border=\"1\" class=\"dataframe\">\n",
              "  <thead>\n",
              "    <tr style=\"text-align: right;\">\n",
              "      <th></th>\n",
              "      <th>release_date</th>\n",
              "      <th>title_length</th>\n",
              "      <th>overview_len</th>\n",
              "      <th>vote_count</th>\n",
              "      <th>vote_average</th>\n",
              "    </tr>\n",
              "  </thead>\n",
              "  <tbody>\n",
              "    <tr>\n",
              "      <th>0</th>\n",
              "      <td>37809</td>\n",
              "      <td>10</td>\n",
              "      <td>359</td>\n",
              "      <td>501</td>\n",
              "      <td>4.105</td>\n",
              "    </tr>\n",
              "    <tr>\n",
              "      <th>1</th>\n",
              "      <td>36853</td>\n",
              "      <td>18</td>\n",
              "      <td>348</td>\n",
              "      <td>342</td>\n",
              "      <td>4.100</td>\n",
              "    </tr>\n",
              "    <tr>\n",
              "      <th>2</th>\n",
              "      <td>41614</td>\n",
              "      <td>26</td>\n",
              "      <td>406</td>\n",
              "      <td>636</td>\n",
              "      <td>4.090</td>\n",
              "    </tr>\n",
              "  </tbody>\n",
              "</table>\n",
              "</div>\n",
              "    <div class=\"colab-df-buttons\">\n",
              "\n",
              "  <div class=\"colab-df-container\">\n",
              "    <button class=\"colab-df-convert\" onclick=\"convertToInteractive('df-6d39d8be-67ca-46df-9b9e-551b3e6c07f2')\"\n",
              "            title=\"Convert this dataframe to an interactive table.\"\n",
              "            style=\"display:none;\">\n",
              "\n",
              "  <svg xmlns=\"http://www.w3.org/2000/svg\" height=\"24px\" viewBox=\"0 -960 960 960\">\n",
              "    <path d=\"M120-120v-720h720v720H120Zm60-500h600v-160H180v160Zm220 220h160v-160H400v160Zm0 220h160v-160H400v160ZM180-400h160v-160H180v160Zm440 0h160v-160H620v160ZM180-180h160v-160H180v160Zm440 0h160v-160H620v160Z\"/>\n",
              "  </svg>\n",
              "    </button>\n",
              "\n",
              "  <style>\n",
              "    .colab-df-container {\n",
              "      display:flex;\n",
              "      gap: 12px;\n",
              "    }\n",
              "\n",
              "    .colab-df-convert {\n",
              "      background-color: #E8F0FE;\n",
              "      border: none;\n",
              "      border-radius: 50%;\n",
              "      cursor: pointer;\n",
              "      display: none;\n",
              "      fill: #1967D2;\n",
              "      height: 32px;\n",
              "      padding: 0 0 0 0;\n",
              "      width: 32px;\n",
              "    }\n",
              "\n",
              "    .colab-df-convert:hover {\n",
              "      background-color: #E2EBFA;\n",
              "      box-shadow: 0px 1px 2px rgba(60, 64, 67, 0.3), 0px 1px 3px 1px rgba(60, 64, 67, 0.15);\n",
              "      fill: #174EA6;\n",
              "    }\n",
              "\n",
              "    .colab-df-buttons div {\n",
              "      margin-bottom: 4px;\n",
              "    }\n",
              "\n",
              "    [theme=dark] .colab-df-convert {\n",
              "      background-color: #3B4455;\n",
              "      fill: #D2E3FC;\n",
              "    }\n",
              "\n",
              "    [theme=dark] .colab-df-convert:hover {\n",
              "      background-color: #434B5C;\n",
              "      box-shadow: 0px 1px 3px 1px rgba(0, 0, 0, 0.15);\n",
              "      filter: drop-shadow(0px 1px 2px rgba(0, 0, 0, 0.3));\n",
              "      fill: #FFFFFF;\n",
              "    }\n",
              "  </style>\n",
              "\n",
              "    <script>\n",
              "      const buttonEl =\n",
              "        document.querySelector('#df-6d39d8be-67ca-46df-9b9e-551b3e6c07f2 button.colab-df-convert');\n",
              "      buttonEl.style.display =\n",
              "        google.colab.kernel.accessAllowed ? 'block' : 'none';\n",
              "\n",
              "      async function convertToInteractive(key) {\n",
              "        const element = document.querySelector('#df-6d39d8be-67ca-46df-9b9e-551b3e6c07f2');\n",
              "        const dataTable =\n",
              "          await google.colab.kernel.invokeFunction('convertToInteractive',\n",
              "                                                    [key], {});\n",
              "        if (!dataTable) return;\n",
              "\n",
              "        const docLinkHtml = 'Like what you see? Visit the ' +\n",
              "          '<a target=\"_blank\" href=https://colab.research.google.com/notebooks/data_table.ipynb>data table notebook</a>'\n",
              "          + ' to learn more about interactive tables.';\n",
              "        element.innerHTML = '';\n",
              "        dataTable['output_type'] = 'display_data';\n",
              "        await google.colab.output.renderOutput(dataTable, element);\n",
              "        const docLink = document.createElement('div');\n",
              "        docLink.innerHTML = docLinkHtml;\n",
              "        element.appendChild(docLink);\n",
              "      }\n",
              "    </script>\n",
              "  </div>\n",
              "\n",
              "\n",
              "<div id=\"df-112383e1-6318-42ab-8457-c894ab149005\">\n",
              "  <button class=\"colab-df-quickchart\" onclick=\"quickchart('df-112383e1-6318-42ab-8457-c894ab149005')\"\n",
              "            title=\"Suggest charts\"\n",
              "            style=\"display:none;\">\n",
              "\n",
              "<svg xmlns=\"http://www.w3.org/2000/svg\" height=\"24px\"viewBox=\"0 0 24 24\"\n",
              "     width=\"24px\">\n",
              "    <g>\n",
              "        <path d=\"M19 3H5c-1.1 0-2 .9-2 2v14c0 1.1.9 2 2 2h14c1.1 0 2-.9 2-2V5c0-1.1-.9-2-2-2zM9 17H7v-7h2v7zm4 0h-2V7h2v10zm4 0h-2v-4h2v4z\"/>\n",
              "    </g>\n",
              "</svg>\n",
              "  </button>\n",
              "\n",
              "<style>\n",
              "  .colab-df-quickchart {\n",
              "      --bg-color: #E8F0FE;\n",
              "      --fill-color: #1967D2;\n",
              "      --hover-bg-color: #E2EBFA;\n",
              "      --hover-fill-color: #174EA6;\n",
              "      --disabled-fill-color: #AAA;\n",
              "      --disabled-bg-color: #DDD;\n",
              "  }\n",
              "\n",
              "  [theme=dark] .colab-df-quickchart {\n",
              "      --bg-color: #3B4455;\n",
              "      --fill-color: #D2E3FC;\n",
              "      --hover-bg-color: #434B5C;\n",
              "      --hover-fill-color: #FFFFFF;\n",
              "      --disabled-bg-color: #3B4455;\n",
              "      --disabled-fill-color: #666;\n",
              "  }\n",
              "\n",
              "  .colab-df-quickchart {\n",
              "    background-color: var(--bg-color);\n",
              "    border: none;\n",
              "    border-radius: 50%;\n",
              "    cursor: pointer;\n",
              "    display: none;\n",
              "    fill: var(--fill-color);\n",
              "    height: 32px;\n",
              "    padding: 0;\n",
              "    width: 32px;\n",
              "  }\n",
              "\n",
              "  .colab-df-quickchart:hover {\n",
              "    background-color: var(--hover-bg-color);\n",
              "    box-shadow: 0 1px 2px rgba(60, 64, 67, 0.3), 0 1px 3px 1px rgba(60, 64, 67, 0.15);\n",
              "    fill: var(--button-hover-fill-color);\n",
              "  }\n",
              "\n",
              "  .colab-df-quickchart-complete:disabled,\n",
              "  .colab-df-quickchart-complete:disabled:hover {\n",
              "    background-color: var(--disabled-bg-color);\n",
              "    fill: var(--disabled-fill-color);\n",
              "    box-shadow: none;\n",
              "  }\n",
              "\n",
              "  .colab-df-spinner {\n",
              "    border: 2px solid var(--fill-color);\n",
              "    border-color: transparent;\n",
              "    border-bottom-color: var(--fill-color);\n",
              "    animation:\n",
              "      spin 1s steps(1) infinite;\n",
              "  }\n",
              "\n",
              "  @keyframes spin {\n",
              "    0% {\n",
              "      border-color: transparent;\n",
              "      border-bottom-color: var(--fill-color);\n",
              "      border-left-color: var(--fill-color);\n",
              "    }\n",
              "    20% {\n",
              "      border-color: transparent;\n",
              "      border-left-color: var(--fill-color);\n",
              "      border-top-color: var(--fill-color);\n",
              "    }\n",
              "    30% {\n",
              "      border-color: transparent;\n",
              "      border-left-color: var(--fill-color);\n",
              "      border-top-color: var(--fill-color);\n",
              "      border-right-color: var(--fill-color);\n",
              "    }\n",
              "    40% {\n",
              "      border-color: transparent;\n",
              "      border-right-color: var(--fill-color);\n",
              "      border-top-color: var(--fill-color);\n",
              "    }\n",
              "    60% {\n",
              "      border-color: transparent;\n",
              "      border-right-color: var(--fill-color);\n",
              "    }\n",
              "    80% {\n",
              "      border-color: transparent;\n",
              "      border-right-color: var(--fill-color);\n",
              "      border-bottom-color: var(--fill-color);\n",
              "    }\n",
              "    90% {\n",
              "      border-color: transparent;\n",
              "      border-bottom-color: var(--fill-color);\n",
              "    }\n",
              "  }\n",
              "</style>\n",
              "\n",
              "  <script>\n",
              "    async function quickchart(key) {\n",
              "      const quickchartButtonEl =\n",
              "        document.querySelector('#' + key + ' button');\n",
              "      quickchartButtonEl.disabled = true;  // To prevent multiple clicks.\n",
              "      quickchartButtonEl.classList.add('colab-df-spinner');\n",
              "      try {\n",
              "        const charts = await google.colab.kernel.invokeFunction(\n",
              "            'suggestCharts', [key], {});\n",
              "      } catch (error) {\n",
              "        console.error('Error during call to suggestCharts:', error);\n",
              "      }\n",
              "      quickchartButtonEl.classList.remove('colab-df-spinner');\n",
              "      quickchartButtonEl.classList.add('colab-df-quickchart-complete');\n",
              "    }\n",
              "    (() => {\n",
              "      let quickchartButtonEl =\n",
              "        document.querySelector('#df-112383e1-6318-42ab-8457-c894ab149005 button');\n",
              "      quickchartButtonEl.style.display =\n",
              "        google.colab.kernel.accessAllowed ? 'block' : 'none';\n",
              "    })();\n",
              "  </script>\n",
              "</div>\n",
              "    </div>\n",
              "  </div>\n"
            ]
          },
          "metadata": {},
          "execution_count": 29
        }
      ],
      "source": [
        "X_numeric_classification = df2[['release_date', 'title_length', 'overview_len', 'vote_count', 'vote_average']]\n",
        "X_numeric_classification.head(3)"
      ]
    },
    {
      "cell_type": "code",
      "execution_count": 30,
      "metadata": {
        "colab": {
          "base_uri": "https://localhost:8080/"
        },
        "id": "uBOQA8sR-whi",
        "outputId": "2c2cac6c-416b-4055-fefe-e40dbc6a4d4b"
      },
      "outputs": [
        {
          "output_type": "stream",
          "name": "stdout",
          "text": [
            "<class 'pandas.core.series.Series'> <class 'pandas.core.frame.DataFrame'>\n"
          ]
        }
      ],
      "source": [
        "print(type(y_regression), type(X_numeric_regression))"
      ]
    },
    {
      "cell_type": "markdown",
      "metadata": {
        "id": "nXwVZRnOEhRE"
      },
      "source": [
        "##  \t✏️ **Text vectorization**"
      ]
    },
    {
      "cell_type": "markdown",
      "metadata": {
        "id": "aW-5itLdw5W_"
      },
      "source": [
        "### 📋 **Overview**"
      ]
    },
    {
      "cell_type": "code",
      "execution_count": 31,
      "metadata": {
        "colab": {
          "base_uri": "https://localhost:8080/"
        },
        "id": "q7sJJGqO6k0o",
        "outputId": "542db9f2-7f7c-4d51-b0be-351cc7c76482"
      },
      "outputs": [
        {
          "output_type": "stream",
          "name": "stderr",
          "text": [
            "[nltk_data] Downloading package punkt to /root/nltk_data...\n",
            "[nltk_data]   Unzipping tokenizers/punkt.zip.\n",
            "[nltk_data] Downloading package stopwords to /root/nltk_data...\n",
            "[nltk_data]   Unzipping corpora/stopwords.zip.\n"
          ]
        },
        {
          "output_type": "execute_result",
          "data": {
            "text/plain": [
              "True"
            ]
          },
          "metadata": {},
          "execution_count": 31
        }
      ],
      "source": [
        "from tensorflow.keras.preprocessing.text import Tokenizer\n",
        "from tensorflow.keras.preprocessing.sequence import pad_sequences\n",
        "from tensorflow.keras.layers.experimental.preprocessing import TextVectorization\n",
        "from nltk.tokenize import word_tokenize\n",
        "from nltk.corpus import stopwords\n",
        "from tensorflow.keras.utils import to_categorical\n",
        "import nltk\n",
        "nltk.download('punkt')\n",
        "nltk.download('stopwords')"
      ]
    },
    {
      "cell_type": "code",
      "execution_count": 32,
      "metadata": {
        "colab": {
          "base_uri": "https://localhost:8080/"
        },
        "id": "50rMh8KKEoSA",
        "outputId": "a9e339dd-ac01-44b9-ed3c-d62f317941cd"
      },
      "outputs": [
        {
          "output_type": "execute_result",
          "data": {
            "text/plain": [
              "array([[   0,    0,    0, ...,    1,  786,  720],\n",
              "       [   0,    0,    0, ...,  984, 4051,  818],\n",
              "       [   0,    0,    0, ...,    1, 2127,    1],\n",
              "       ...,\n",
              "       [   0,    0,    0, ...,  135,  579, 1079],\n",
              "       [   0,    0,    0, ...,   44,   84,  803],\n",
              "       [   0,    0,    0, ...,   23,  213,    1]], dtype=int32)"
            ]
          },
          "metadata": {},
          "execution_count": 32
        }
      ],
      "source": [
        "vocabulary_size = 10000\n",
        "max_len_overview = 500\n",
        "\n",
        "def remove_stop_words(text):\n",
        "    text = word_tokenize(text.lower())\n",
        "    stop_words = set(stopwords.words('english'))\n",
        "    text = [word for word in text if word.isalpha() and not word in stop_words]\n",
        "    return ' '.join(text)\n",
        "\n",
        "df2['overview'] = df2['overview'].apply(remove_stop_words)\n",
        "\n",
        "tokenizer = Tokenizer(num_words=vocabulary_size, oov_token=\"<OOV>\")\n",
        "tokenizer.fit_on_texts(df2['overview'].astype(str))\n",
        "X_text_seq = tokenizer.texts_to_sequences(df2['overview'].astype(str))\n",
        "X_text_padded = pad_sequences(X_text_seq, maxlen=max_len_overview)\n",
        "\n",
        "X_text_vectorized = X_text_padded\n",
        "X_text_vectorized"
      ]
    },
    {
      "cell_type": "markdown",
      "metadata": {
        "id": "JM0byrEKw8xt"
      },
      "source": [
        "### 🔖 **Title**"
      ]
    },
    {
      "cell_type": "code",
      "execution_count": 33,
      "metadata": {
        "colab": {
          "base_uri": "https://localhost:8080/"
        },
        "id": "co67tKv6ZZ15",
        "outputId": "6352cb29-6c07-4ac5-e253-7363ed8414a9"
      },
      "outputs": [
        {
          "output_type": "execute_result",
          "data": {
            "text/plain": [
              "array([[   0,    0,    0, ...,    0,    0, 2688],\n",
              "       [   0,    0,    0, ..., 1637, 1638,    7],\n",
              "       [   0,    0,    0, ..., 1147, 1639,   25],\n",
              "       ...,\n",
              "       [   0,    0,    0, ...,    3,    2,   20],\n",
              "       [   0,    0,    0, ...,    0, 6987, 1123],\n",
              "       [   0,    0,    0, ..., 6989,    5, 1437]], dtype=int32)"
            ]
          },
          "metadata": {},
          "execution_count": 33
        }
      ],
      "source": [
        "max_len_title = 90\n",
        "\n",
        "tokenizer = Tokenizer(num_words=vocabulary_size, oov_token=\"<OOV>\")\n",
        "tokenizer.fit_on_texts(df2['title'].astype(str))\n",
        "X_text_seq_title = tokenizer.texts_to_sequences(df2['title'].astype(str))\n",
        "X_text_padded_title = pad_sequences(X_text_seq_title, maxlen=max_len_title)\n",
        "\n",
        "X_text_vectorized_title = X_text_padded_title\n",
        "X_text_vectorized_title"
      ]
    },
    {
      "cell_type": "markdown",
      "metadata": {
        "id": "sjF3AEcxeqox"
      },
      "source": [
        "## 🔢 **Numeric normalization**"
      ]
    },
    {
      "cell_type": "code",
      "execution_count": 34,
      "metadata": {
        "colab": {
          "base_uri": "https://localhost:8080/"
        },
        "id": "C_JmJ7zOh5sh",
        "outputId": "72bc0e18-1049-4c3a-e48d-33bd30cdf3a6"
      },
      "outputs": [
        {
          "output_type": "execute_result",
          "data": {
            "text/plain": [
              "release_date      int64\n",
              "title_length      int64\n",
              "overview_len      int64\n",
              "vote_count        int64\n",
              "vote_average    float64\n",
              "dtype: object"
            ]
          },
          "metadata": {},
          "execution_count": 34
        }
      ],
      "source": [
        "X_numeric_classification.dtypes"
      ]
    },
    {
      "cell_type": "code",
      "execution_count": 35,
      "metadata": {
        "colab": {
          "base_uri": "https://localhost:8080/"
        },
        "id": "OpG4bHcAU1Se",
        "outputId": "a3e98196-2eaa-4084-977a-28d57ffdbf38"
      },
      "outputs": [
        {
          "output_type": "execute_result",
          "data": {
            "text/plain": [
              "release_date      int64\n",
              "title_length      int64\n",
              "overview_len      int64\n",
              "vote_count        int64\n",
              "popularity      float64\n",
              "dtype: object"
            ]
          },
          "metadata": {},
          "execution_count": 35
        }
      ],
      "source": [
        "X_numeric_regression.dtypes"
      ]
    },
    {
      "cell_type": "code",
      "execution_count": 36,
      "metadata": {
        "id": "itIbyNWLFzw9"
      },
      "outputs": [],
      "source": [
        "from sklearn.preprocessing import Normalizer\n",
        "\n",
        "def normalize_numeric(X_numeric):\n",
        "  normalizer = Normalizer()\n",
        "  X_numeric_normalized = normalizer.fit_transform(X_numeric)\n",
        "  return X_numeric_normalized"
      ]
    },
    {
      "cell_type": "code",
      "execution_count": 37,
      "metadata": {
        "colab": {
          "base_uri": "https://localhost:8080/"
        },
        "id": "VXv1m0du7QmE",
        "outputId": "1590977d-e240-49d2-b2ee-bfc8105c6cfb"
      },
      "outputs": [
        {
          "output_type": "execute_result",
          "data": {
            "text/plain": [
              "array([[9.99867014e-01, 2.64452118e-04, 9.49383105e-03, 1.32490511e-02,\n",
              "        4.62764762e-04],\n",
              "       [9.99912089e-01, 4.88384056e-04, 9.44209174e-03, 9.27929706e-03,\n",
              "        5.63595200e-04],\n",
              "       [9.99835360e-01, 6.24686869e-04, 9.75472572e-03, 1.52808019e-02,\n",
              "        4.52369399e-04],\n",
              "       ...,\n",
              "       [9.99900814e-01, 4.60858742e-04, 1.01660017e-02, 9.73225226e-03,\n",
              "        2.92645301e-04],\n",
              "       [9.98731916e-01, 5.11566827e-04, 1.04359633e-02, 4.92383071e-02,\n",
              "        9.88500580e-04],\n",
              "       [9.99955490e-01, 6.59902603e-04, 5.30460169e-03, 7.76654602e-03,\n",
              "        3.51601183e-04]])"
            ]
          },
          "metadata": {},
          "execution_count": 37
        }
      ],
      "source": [
        "X_numeric_regression_normalized = normalize_numeric(X_numeric_regression)\n",
        "X_numeric_regression_normalized"
      ]
    },
    {
      "cell_type": "code",
      "execution_count": 38,
      "metadata": {
        "colab": {
          "base_uri": "https://localhost:8080/"
        },
        "id": "YTt3-6TH7Ucr",
        "outputId": "1475b4f4-f9fb-49b8-f8ea-6677f72a9c29"
      },
      "outputs": [
        {
          "output_type": "execute_result",
          "data": {
            "text/plain": [
              "array([[9.99867115e-01, 2.64452145e-04, 9.49383201e-03, 1.32490525e-02,\n",
              "        1.08557606e-04],\n",
              "       [9.99912241e-01, 4.88384130e-04, 9.44209318e-03, 9.27929847e-03,\n",
              "        1.11243052e-04],\n",
              "       [9.99835458e-01, 6.24686930e-04, 9.75472667e-03, 1.52808034e-02,\n",
              "        9.82680594e-05],\n",
              "       ...,\n",
              "       [9.99900853e-01, 4.60858760e-04, 1.01660021e-02, 9.73225264e-03,\n",
              "        8.40389504e-05],\n",
              "       [9.98732402e-01, 5.11567076e-04, 1.04359683e-02, 4.92383310e-02,\n",
              "        7.39470208e-05],\n",
              "       [9.99955551e-01, 6.59902643e-04, 5.30460201e-03, 7.76654649e-03,\n",
              "        5.34521141e-05]])"
            ]
          },
          "metadata": {},
          "execution_count": 38
        }
      ],
      "source": [
        "X_numeric_classification_normalized = normalize_numeric(X_numeric_classification)\n",
        "X_numeric_classification_normalized"
      ]
    },
    {
      "cell_type": "markdown",
      "metadata": {
        "id": "MX8VF4Ls6G_8"
      },
      "source": [
        "## 🔪 **Dataset split: test and train**"
      ]
    },
    {
      "cell_type": "code",
      "execution_count": 54,
      "metadata": {
        "id": "9yclYQaGFQ65"
      },
      "outputs": [],
      "source": [
        "from sklearn.model_selection import train_test_split"
      ]
    },
    {
      "cell_type": "code",
      "execution_count": 55,
      "metadata": {
        "id": "9wiRgE_07b6c"
      },
      "outputs": [],
      "source": [
        "# Split the data into train and test sets (70% train, 30% test)\n",
        "def split_dataset(features, target):\n",
        "  X_train, X_test, y_train, y_test = train_test_split(features, target, test_size=0.3, random_state=42)\n",
        "  print(\"Training set shape:\", X_train.shape, y_train.shape)\n",
        "  print(\"Testing set shape:\", X_test.shape, y_test.shape)\n",
        "  return X_train, X_test, y_train, y_test"
      ]
    },
    {
      "cell_type": "markdown",
      "metadata": {
        "id": "kUkRAGfi_oJX"
      },
      "source": [
        "# 🐌 **Step 2: Model Training**"
      ]
    },
    {
      "cell_type": "markdown",
      "metadata": {
        "id": "wRZYp0gnCUwR"
      },
      "source": [
        "## 🍀 **Build the model**"
      ]
    },
    {
      "cell_type": "code",
      "execution_count": 56,
      "metadata": {
        "id": "maiGDBjx_rnG"
      },
      "outputs": [],
      "source": [
        "from tensorflow.keras.models import Sequential\n",
        "from tensorflow.keras.layers import Embedding, Bidirectional, LSTM, Dense\n",
        "from tensorflow.keras.layers import Dropout\n",
        "from tensorflow.keras.optimizers import Adam\n",
        "from tensorflow.keras.losses import MeanSquaredError\n",
        "from keras.layers import Dense, Conv1D, MaxPooling1D, GlobalMaxPooling1D"
      ]
    },
    {
      "cell_type": "code",
      "execution_count": 57,
      "metadata": {
        "id": "N-DebUarhJ5Y"
      },
      "outputs": [],
      "source": [
        "def build_model1(dim):\n",
        "  model1 = Sequential()\n",
        "  model1.add(Dense(10, input_dim = dim, activation='relu'))\n",
        "  model1.add(Dense(50, activation='relu'))\n",
        "  model1.add(Dense(50, activation='relu'))\n",
        "  model1.add(Dense(1))\n",
        "  return model1"
      ]
    },
    {
      "cell_type": "code",
      "execution_count": 58,
      "metadata": {
        "id": "pM9gP6V34pZJ"
      },
      "outputs": [],
      "source": [
        "from tensorflow.keras.regularizers import l2\n",
        "\n",
        "def build_model1_classification(dim):\n",
        "    model1 = Sequential()\n",
        "    model1.add(Flatten())\n",
        "    model1.add(Dense(128, input_dim=dim, activation='relu', kernel_regularizer=l2(0.01)))\n",
        "    model1.add(Dropout(0.4))\n",
        "    model1.add(Dense(128, activation='relu', kernel_regularizer=l2(0.01)))\n",
        "    model1.add(Dropout(0.4))\n",
        "    model1.add(Dense(7, activation='softmax'))\n",
        "    return model1"
      ]
    },
    {
      "cell_type": "code",
      "execution_count": 59,
      "metadata": {
        "id": "Jbrkb5KqCZwQ"
      },
      "outputs": [],
      "source": [
        "def build_model2(dim):\n",
        "  model2 = Sequential()\n",
        "  model2.add(Dense(10, input_dim = dim))\n",
        "  model2.add(Dense(50, activation='relu'))\n",
        "  model2.add(Dropout(0.2))\n",
        "  model2.add(Dense(50, activation='relu'))\n",
        "  model2.add(Dropout(0.2))\n",
        "  model2.add(Dense(50, activation='relu'))\n",
        "  model2.add(Dropout(0.2))\n",
        "  model2.add(Dense(50, activation='relu'))\n",
        "  model2.add(Dense(1))\n",
        "  return model2"
      ]
    },
    {
      "cell_type": "code",
      "execution_count": 60,
      "metadata": {
        "id": "Syly_8UR1QyQ"
      },
      "outputs": [],
      "source": [
        "from tensorflow.keras.models import Sequential\n",
        "from tensorflow.keras.layers import Embedding, LSTM, Dense, Flatten, SpatialDropout1D\n",
        "from tensorflow.keras.regularizers import l2\n",
        "\n",
        "def build_model_embedding():\n",
        "    model = Sequential([\n",
        "        Embedding(input_dim=vocabulary_size, output_dim=64, input_length=max_len),\n",
        "        Flatten(),\n",
        "        Dense(128, activation='relu'),\n",
        "        Dense(units=64, activation='relu', kernel_regularizer=l2(0.01)),\n",
        "        Dense(7, activation='softmax')\n",
        "    ])\n",
        "    return model"
      ]
    },
    {
      "cell_type": "code",
      "execution_count": 61,
      "metadata": {
        "id": "quIN6ztBW8Hz"
      },
      "outputs": [],
      "source": [
        "def build_model_embedding_2():\n",
        "    model = Sequential()\n",
        "    model.add(Embedding(vocabulary_size, 128, input_length=max_len))\n",
        "    model.add(Conv1D(32, 7, activation='relu'))\n",
        "    model.add(MaxPooling1D(5))\n",
        "    model.add(Conv1D(32, 7, activation='relu'))\n",
        "    model.add(GlobalMaxPooling1D())\n",
        "    model.add(Dense(7, activation='softmax'))\n",
        "    return model"
      ]
    },
    {
      "cell_type": "code",
      "execution_count": 62,
      "metadata": {
        "id": "_46whWhcbINZ"
      },
      "outputs": [],
      "source": [
        "def build_model_embedding_3():\n",
        "    model = Sequential([\n",
        "        Embedding(input_dim=vocabulary_size, output_dim=64, input_length=max_len),\n",
        "        LSTM(64),\n",
        "        Dense(7, activation='softmax')\n",
        "    ])"
      ]
    },
    {
      "cell_type": "code",
      "execution_count": 63,
      "metadata": {
        "id": "O7FDEl4GbNAn"
      },
      "outputs": [],
      "source": [
        "def build_model_embedding_4():\n",
        "    model = Sequential([\n",
        "        Embedding(input_dim=vocabulary_size, output_dim=64, input_length=max_len),\n",
        "        Flatten(),\n",
        "        Dense(32, activation='relu'),\n",
        "        Dropout(0.4),\n",
        "        Dense(32, activation='relu'),\n",
        "        Dropout(0.4),\n",
        "        Dense(32, activation='relu'),\n",
        "        Dense(7, activation='softmax')\n",
        "    ])\n",
        "    return model"
      ]
    },
    {
      "cell_type": "code",
      "source": [
        "def build_lstm_model():\n",
        "    model = Sequential()\n",
        "    model.add(Embedding(input_dim=vocabulary_size, output_dim=128, input_length=max_len))\n",
        "    model.add(SpatialDropout1D(0.2))\n",
        "    model.add(LSTM(50, dropout=0.2, recurrent_dropout=0.2))\n",
        "    model.add(Dense(7, activation='softmax'))\n",
        "    return model"
      ],
      "metadata": {
        "id": "dtLwYfmmpcMr"
      },
      "execution_count": 64,
      "outputs": []
    },
    {
      "cell_type": "markdown",
      "metadata": {
        "id": "JwK3btE7CpVc"
      },
      "source": [
        "## 💭 **Make predictions**"
      ]
    },
    {
      "cell_type": "markdown",
      "source": [
        "### 🔧 **Utility functions**:"
      ],
      "metadata": {
        "id": "D3pvh68kb-Mr"
      }
    },
    {
      "cell_type": "code",
      "execution_count": 142,
      "metadata": {
        "id": "_BLxXTnabVHf"
      },
      "outputs": [],
      "source": [
        "from sklearn.metrics import r2_score\n",
        "from sklearn.metrics import explained_variance_score\n",
        "\n",
        "def predict_from_model_regression(model):\n",
        "  y_pred = model.predict(X_test)\n",
        "  r_squared = r2_score(y_test, y_pred)\n",
        "  print(\"R-squared:\", r_squared)\n",
        "  explained_variance = explained_variance_score(y_test, y_pred)\n",
        "  print(\"Explained Variance:\", explained_variance)"
      ]
    },
    {
      "cell_type": "code",
      "execution_count": 66,
      "metadata": {
        "id": "Nvd-6iTOPwwt"
      },
      "outputs": [],
      "source": [
        "from sklearn.metrics import confusion_matrix\n",
        "from sklearn.metrics import classification_report\n",
        "from sklearn.metrics import accuracy_score\n",
        "from sklearn.metrics import classification_report\n",
        "import warnings\n",
        "\n",
        "\n",
        "def predict_from_model_classification(model):\n",
        "    y_pred_class = np.argmax(model.predict(X_test), axis=1)\n",
        "    confusion_mat = confusion_matrix(y_test.argmax(axis=1), y_pred_class)\n",
        "    accuracy = accuracy_score(y_test.argmax(axis=1), y_pred_class)\n",
        "    print(\"Confusion Matrix:\\n\", confusion_mat)\n",
        "    with warnings.catch_warnings():\n",
        "        warnings.simplefilter(\"ignore\")\n",
        "        print(\"Classification Report:\\n\", classification_report(y_test.argmax(axis=1), y_pred_class, zero_division=1))\n",
        "    print(\"Accuracy:\", accuracy)\n"
      ]
    },
    {
      "cell_type": "markdown",
      "metadata": {
        "id": "Jy0NnjVSCi0R"
      },
      "source": [
        "## 💪 **Train & Evaluate the model**"
      ]
    },
    {
      "cell_type": "markdown",
      "source": [
        "### 🔧 **Utility functions**:"
      ],
      "metadata": {
        "id": "eSkeUgrhb1NJ"
      }
    },
    {
      "cell_type": "code",
      "execution_count": 143,
      "metadata": {
        "id": "-z-mBfEbNpUE"
      },
      "outputs": [],
      "source": [
        "import matplotlib.pyplot as plt\n",
        "from sklearn.utils.class_weight import compute_class_weight\n",
        "\n",
        "def fit_evaluate_model(model, learning_rate, loss, metric, epochs):\n",
        "  '''class_values = np.unique(np.argmax(y_train, axis=1))\n",
        "  class_weights = compute_class_weight('balanced', classes=class_values, y=np.argmax(y_train, axis=1))\n",
        "  class_weight_dict = dict(zip(class_values, class_weights))'''\n",
        "\n",
        "  model.compile(optimizer=Adam(learning_rate=learning_rate), loss=loss, metrics=metric)\n",
        "  if 'accuracy' not in metric:\n",
        "      metric.append('accuracy')\n",
        "  history = model.fit(X_train, y_train, epochs=epochs, batch_size=32, validation_split=0.2)\n",
        "\n",
        "  test_loss = model.evaluate(X_test, y_test)\n",
        "\n",
        "  plt.plot(history.history['accuracy'], label='Training Accuracy')\n",
        "  plt.plot(history.history['val_accuracy'], label='Validation Accuracy')\n",
        "  plt.xlabel('Epoch')\n",
        "  plt.ylabel('Accuracy')\n",
        "  plt.legend()\n",
        "  plt.show()\n",
        "\n",
        "  print(\"Test Loss (mean squared error):\", test_loss)"
      ]
    },
    {
      "cell_type": "markdown",
      "metadata": {
        "id": "ViAsnzKBsPMO"
      },
      "source": [
        "### ⛔ **Regression**:\n",
        "***target = vote_average***"
      ]
    },
    {
      "cell_type": "markdown",
      "metadata": {
        "id": "0AqV7wJbYIDB"
      },
      "source": [
        "#### 🔢 **Numeric features**"
      ]
    },
    {
      "cell_type": "code",
      "execution_count": 68,
      "metadata": {
        "colab": {
          "base_uri": "https://localhost:8080/"
        },
        "id": "W9-OUyZ6Ykf7",
        "outputId": "ffeabc8b-bb8e-424d-96c1-5a1ab0054aa7"
      },
      "outputs": [
        {
          "output_type": "stream",
          "name": "stdout",
          "text": [
            "Training set shape: (6181, 5) (6181,)\n",
            "Testing set shape: (2649, 5) (2649,)\n"
          ]
        }
      ],
      "source": [
        "X_train, X_test, y_train, y_test = split_dataset(X_numeric_regression_normalized, y_regression)"
      ]
    },
    {
      "cell_type": "code",
      "execution_count": 69,
      "metadata": {
        "id": "B31bu_Q_lHUF"
      },
      "outputs": [],
      "source": [
        "model1 = build_model1(X_numeric_regression_normalized.shape[1])\n",
        "model2 = build_model2(X_numeric_regression_normalized.shape[1])"
      ]
    },
    {
      "cell_type": "code",
      "execution_count": 70,
      "metadata": {
        "colab": {
          "base_uri": "https://localhost:8080/",
          "height": 831
        },
        "id": "R825TsNmjCLw",
        "outputId": "d385e8cb-e70c-4936-9649-9673d686ab35"
      },
      "outputs": [
        {
          "output_type": "stream",
          "name": "stdout",
          "text": [
            "Epoch 1/10\n",
            "155/155 [==============================] - 2s 4ms/step - loss: 38.8529 - mean_squared_error: 38.8529 - accuracy: 0.0000e+00 - val_loss: 35.0556 - val_mean_squared_error: 35.0556 - val_accuracy: 0.0000e+00\n",
            "Epoch 2/10\n",
            "155/155 [==============================] - 0s 3ms/step - loss: 31.0685 - mean_squared_error: 31.0685 - accuracy: 0.0000e+00 - val_loss: 25.8118 - val_mean_squared_error: 25.8118 - val_accuracy: 0.0000e+00\n",
            "Epoch 3/10\n",
            "155/155 [==============================] - 1s 4ms/step - loss: 20.3582 - mean_squared_error: 20.3582 - accuracy: 0.0000e+00 - val_loss: 13.9520 - val_mean_squared_error: 13.9520 - val_accuracy: 0.0000e+00\n",
            "Epoch 4/10\n",
            "155/155 [==============================] - 1s 4ms/step - loss: 8.7835 - mean_squared_error: 8.7835 - accuracy: 0.0000e+00 - val_loss: 4.2120 - val_mean_squared_error: 4.2120 - val_accuracy: 0.0000e+00\n",
            "Epoch 5/10\n",
            "155/155 [==============================] - 1s 5ms/step - loss: 2.2139 - mean_squared_error: 2.2139 - accuracy: 0.0000e+00 - val_loss: 0.9135 - val_mean_squared_error: 0.9135 - val_accuracy: 0.0000e+00\n",
            "Epoch 6/10\n",
            "155/155 [==============================] - 1s 4ms/step - loss: 0.7324 - mean_squared_error: 0.7324 - accuracy: 0.0000e+00 - val_loss: 0.5788 - val_mean_squared_error: 0.5788 - val_accuracy: 0.0000e+00\n",
            "Epoch 7/10\n",
            "155/155 [==============================] - 1s 4ms/step - loss: 0.6201 - mean_squared_error: 0.6201 - accuracy: 0.0000e+00 - val_loss: 0.5681 - val_mean_squared_error: 0.5681 - val_accuracy: 0.0000e+00\n",
            "Epoch 8/10\n",
            "155/155 [==============================] - 1s 5ms/step - loss: 0.6158 - mean_squared_error: 0.6158 - accuracy: 0.0000e+00 - val_loss: 0.5670 - val_mean_squared_error: 0.5670 - val_accuracy: 0.0000e+00\n",
            "Epoch 9/10\n",
            "155/155 [==============================] - 1s 3ms/step - loss: 0.6143 - mean_squared_error: 0.6143 - accuracy: 0.0000e+00 - val_loss: 0.5651 - val_mean_squared_error: 0.5651 - val_accuracy: 0.0000e+00\n",
            "Epoch 10/10\n",
            "155/155 [==============================] - 0s 3ms/step - loss: 0.6125 - mean_squared_error: 0.6125 - accuracy: 0.0000e+00 - val_loss: 0.5633 - val_mean_squared_error: 0.5633 - val_accuracy: 0.0000e+00\n",
            "83/83 [==============================] - 0s 2ms/step - loss: 0.6258 - mean_squared_error: 0.6258 - accuracy: 0.0000e+00\n"
          ]
        },
        {
          "output_type": "display_data",
          "data": {
            "text/plain": [
              "<Figure size 640x480 with 1 Axes>"
            ],
            "image/png": "[encoded data removed]"
          },
          "metadata": {}
        },
        {
          "output_type": "stream",
          "name": "stdout",
          "text": [
            "Test Loss (mean squared error): [0.625832200050354, 0.625832200050354, 0.0]\n"
          ]
        }
      ],
      "source": [
        "fit_evaluate_model(model1, 0.0001, MeanSquaredError(), ['mean_squared_error'], 10)"
      ]
    },
    {
      "cell_type": "code",
      "execution_count": 71,
      "metadata": {
        "colab": {
          "base_uri": "https://localhost:8080/"
        },
        "id": "uoR1mbzRJTJV",
        "outputId": "a2bfe03e-8bce-43e4-97f0-67e6162dd0cb"
      },
      "outputs": [
        {
          "output_type": "stream",
          "name": "stdout",
          "text": [
            "83/83 [==============================] - 0s 2ms/step\n",
            "R-squared: 0.03407154007708535\n",
            "Explained Variance: 0.03417086248133461\n"
          ]
        }
      ],
      "source": [
        "predict_from_model_regression(model1)"
      ]
    },
    {
      "cell_type": "code",
      "execution_count": 72,
      "metadata": {
        "colab": {
          "base_uri": "https://localhost:8080/",
          "height": 831
        },
        "id": "eT_bbfaCT2jU",
        "outputId": "d472da1b-93a0-4da6-edf8-6382353087ba"
      },
      "outputs": [
        {
          "output_type": "stream",
          "name": "stdout",
          "text": [
            "Epoch 1/10\n",
            "155/155 [==============================] - 2s 4ms/step - loss: 8.2816 - mean_squared_error: 8.2816 - accuracy: 0.0000e+00 - val_loss: 0.7023 - val_mean_squared_error: 0.7023 - val_accuracy: 0.0000e+00\n",
            "Epoch 2/10\n",
            "155/155 [==============================] - 1s 3ms/step - loss: 1.3840 - mean_squared_error: 1.3840 - accuracy: 0.0000e+00 - val_loss: 0.8302 - val_mean_squared_error: 0.8302 - val_accuracy: 0.0000e+00\n",
            "Epoch 3/10\n",
            "155/155 [==============================] - 1s 3ms/step - loss: 1.1380 - mean_squared_error: 1.1380 - accuracy: 0.0000e+00 - val_loss: 1.3466 - val_mean_squared_error: 1.3466 - val_accuracy: 0.0000e+00\n",
            "Epoch 4/10\n",
            "155/155 [==============================] - 1s 3ms/step - loss: 1.0477 - mean_squared_error: 1.0477 - accuracy: 0.0000e+00 - val_loss: 1.0518 - val_mean_squared_error: 1.0518 - val_accuracy: 0.0000e+00\n",
            "Epoch 5/10\n",
            "155/155 [==============================] - 0s 3ms/step - loss: 0.9931 - mean_squared_error: 0.9931 - accuracy: 0.0000e+00 - val_loss: 1.4143 - val_mean_squared_error: 1.4143 - val_accuracy: 0.0000e+00\n",
            "Epoch 6/10\n",
            "155/155 [==============================] - 1s 4ms/step - loss: 0.9227 - mean_squared_error: 0.9227 - accuracy: 0.0000e+00 - val_loss: 0.9565 - val_mean_squared_error: 0.9565 - val_accuracy: 0.0000e+00\n",
            "Epoch 7/10\n",
            "155/155 [==============================] - 1s 3ms/step - loss: 0.8534 - mean_squared_error: 0.8534 - accuracy: 0.0000e+00 - val_loss: 1.2235 - val_mean_squared_error: 1.2235 - val_accuracy: 0.0000e+00\n",
            "Epoch 8/10\n",
            "155/155 [==============================] - 1s 3ms/step - loss: 0.8410 - mean_squared_error: 0.8410 - accuracy: 0.0000e+00 - val_loss: 0.7075 - val_mean_squared_error: 0.7075 - val_accuracy: 0.0000e+00\n",
            "Epoch 9/10\n",
            "155/155 [==============================] - 0s 3ms/step - loss: 0.8023 - mean_squared_error: 0.8023 - accuracy: 0.0000e+00 - val_loss: 0.6311 - val_mean_squared_error: 0.6311 - val_accuracy: 0.0000e+00\n",
            "Epoch 10/10\n",
            "155/155 [==============================] - 1s 3ms/step - loss: 0.7497 - mean_squared_error: 0.7497 - accuracy: 0.0000e+00 - val_loss: 0.6520 - val_mean_squared_error: 0.6520 - val_accuracy: 0.0000e+00\n",
            "83/83 [==============================] - 0s 2ms/step - loss: 0.7224 - mean_squared_error: 0.7224 - accuracy: 0.0000e+00\n"
          ]
        },
        {
          "output_type": "display_data",
          "data": {
            "text/plain": [
              "<Figure size 640x480 with 1 Axes>"
            ],
            "image/png": "[encoded data removed]"
          },
          "metadata": {}
        },
        {
          "output_type": "stream",
          "name": "stdout",
          "text": [
            "Test Loss (mean squared error): [0.7223867177963257, 0.7223867177963257, 0.0]\n"
          ]
        }
      ],
      "source": [
        "fit_evaluate_model(model2, 0.001, MeanSquaredError(), ['mean_squared_error'], 10)"
      ]
    },
    {
      "cell_type": "code",
      "execution_count": 73,
      "metadata": {
        "colab": {
          "base_uri": "https://localhost:8080/"
        },
        "id": "4ZoBhrtCJWFx",
        "outputId": "073fbae4-cf49-47be-e4b1-6b5206e2a401"
      },
      "outputs": [
        {
          "output_type": "stream",
          "name": "stdout",
          "text": [
            "83/83 [==============================] - 0s 2ms/step\n",
            "R-squared: -0.11495344476510216\n",
            "Explained Variance: 0.07976940588025316\n"
          ]
        }
      ],
      "source": [
        "predict_from_model_regression(model2)"
      ]
    },
    {
      "cell_type": "markdown",
      "metadata": {
        "id": "UaCpBYqkYN-P"
      },
      "source": [
        "#### 🔠 **Text features**"
      ]
    },
    {
      "cell_type": "code",
      "execution_count": 74,
      "metadata": {
        "colab": {
          "base_uri": "https://localhost:8080/"
        },
        "id": "lMDjSrjZYRN3",
        "outputId": "e5922e7d-e2eb-4daa-dfba-a37f5c909c94"
      },
      "outputs": [
        {
          "output_type": "stream",
          "name": "stdout",
          "text": [
            "Training set shape: (6181, 500) (6181,)\n",
            "Testing set shape: (2649, 500) (2649,)\n"
          ]
        }
      ],
      "source": [
        "X_train, X_test, y_train, y_test = split_dataset(X_text_vectorized, y_regression)"
      ]
    },
    {
      "cell_type": "code",
      "execution_count": 75,
      "metadata": {
        "id": "ISknPkAjmcD5"
      },
      "outputs": [],
      "source": [
        "model1 = build_model1(X_text_vectorized.shape[1])\n",
        "model2 = build_model2(X_text_vectorized.shape[1])"
      ]
    },
    {
      "cell_type": "code",
      "execution_count": 76,
      "metadata": {
        "colab": {
          "base_uri": "https://localhost:8080/",
          "height": 851
        },
        "id": "NTxtDJC5ZLih",
        "outputId": "555bc0be-1e47-4aa4-d792-852177c4a0c1"
      },
      "outputs": [
        {
          "output_type": "stream",
          "name": "stdout",
          "text": [
            "Epoch 1/10\n",
            "155/155 [==============================] - 2s 7ms/step - loss: 23467.0547 - mean_squared_error: 23467.0547 - accuracy: 0.0000e+00 - val_loss: 4858.9707 - val_mean_squared_error: 4858.9707 - val_accuracy: 0.0000e+00\n",
            "Epoch 2/10\n",
            "155/155 [==============================] - 2s 10ms/step - loss: 3313.0925 - mean_squared_error: 3313.0925 - accuracy: 0.0000e+00 - val_loss: 1906.1348 - val_mean_squared_error: 1906.1348 - val_accuracy: 0.0000e+00\n",
            "Epoch 3/10\n",
            "155/155 [==============================] - 1s 8ms/step - loss: 1632.6887 - mean_squared_error: 1632.6887 - accuracy: 0.0000e+00 - val_loss: 1203.0353 - val_mean_squared_error: 1203.0353 - val_accuracy: 0.0000e+00\n",
            "Epoch 4/10\n",
            "155/155 [==============================] - 1s 7ms/step - loss: 1069.5007 - mean_squared_error: 1069.5007 - accuracy: 0.0000e+00 - val_loss: 870.3325 - val_mean_squared_error: 870.3325 - val_accuracy: 0.0000e+00\n",
            "Epoch 5/10\n",
            "155/155 [==============================] - 1s 8ms/step - loss: 759.9596 - mean_squared_error: 759.9596 - accuracy: 0.0000e+00 - val_loss: 670.1645 - val_mean_squared_error: 670.1645 - val_accuracy: 0.0000e+00\n",
            "Epoch 6/10\n",
            "155/155 [==============================] - 1s 6ms/step - loss: 565.2001 - mean_squared_error: 565.2001 - accuracy: 0.0000e+00 - val_loss: 535.4111 - val_mean_squared_error: 535.4111 - val_accuracy: 0.0000e+00\n",
            "Epoch 7/10\n",
            "155/155 [==============================] - 1s 7ms/step - loss: 439.6220 - mean_squared_error: 439.6220 - accuracy: 0.0000e+00 - val_loss: 435.2075 - val_mean_squared_error: 435.2075 - val_accuracy: 0.0000e+00\n",
            "Epoch 8/10\n",
            "155/155 [==============================] - 1s 4ms/step - loss: 352.7681 - mean_squared_error: 352.7681 - accuracy: 0.0000e+00 - val_loss: 364.7919 - val_mean_squared_error: 364.7919 - val_accuracy: 0.0000e+00\n",
            "Epoch 9/10\n",
            "155/155 [==============================] - 0s 3ms/step - loss: 290.4719 - mean_squared_error: 290.4719 - accuracy: 0.0000e+00 - val_loss: 311.1450 - val_mean_squared_error: 311.1450 - val_accuracy: 0.0000e+00\n",
            "Epoch 10/10\n",
            "155/155 [==============================] - 0s 3ms/step - loss: 243.0459 - mean_squared_error: 243.0459 - accuracy: 0.0000e+00 - val_loss: 266.2161 - val_mean_squared_error: 266.2161 - val_accuracy: 0.0000e+00\n",
            "83/83 [==============================] - 0s 2ms/step - loss: 262.3179 - mean_squared_error: 262.3179 - accuracy: 0.0000e+00\n"
          ]
        },
        {
          "output_type": "display_data",
          "data": {
            "text/plain": [
              "<Figure size 640x480 with 1 Axes>"
            ],
            "image/png": "[encoded data removed]"
          },
          "metadata": {}
        },
        {
          "output_type": "stream",
          "name": "stdout",
          "text": [
            "Test Loss (mean squared error): [262.31787109375, 262.31787109375, 0.0]\n"
          ]
        }
      ],
      "source": [
        "fit_evaluate_model(model1, 0.0001, MeanSquaredError(), ['mean_squared_error'], 10)"
      ]
    },
    {
      "cell_type": "code",
      "execution_count": 77,
      "metadata": {
        "colab": {
          "base_uri": "https://localhost:8080/"
        },
        "id": "wUm7HhYRJYOZ",
        "outputId": "7ec268cb-6bd6-4431-875f-75bd54a2454f"
      },
      "outputs": [
        {
          "output_type": "stream",
          "name": "stdout",
          "text": [
            "83/83 [==============================] - 0s 2ms/step\n",
            "R-squared: -403.86942271288484\n",
            "Explained Variance: -399.3624725722653\n"
          ]
        }
      ],
      "source": [
        "predict_from_model_regression(model1)"
      ]
    },
    {
      "cell_type": "code",
      "execution_count": 78,
      "metadata": {
        "colab": {
          "base_uri": "https://localhost:8080/",
          "height": 851
        },
        "id": "cTHl2-Q5iE87",
        "outputId": "8c33395b-5469-491b-e12d-a4e477899d70"
      },
      "outputs": [
        {
          "output_type": "stream",
          "name": "stdout",
          "text": [
            "Epoch 1/10\n",
            "155/155 [==============================] - 2s 5ms/step - loss: 11323.1484 - mean_squared_error: 11323.1484 - accuracy: 0.0000e+00 - val_loss: 343.9087 - val_mean_squared_error: 343.9087 - val_accuracy: 0.0000e+00\n",
            "Epoch 2/10\n",
            "155/155 [==============================] - 1s 4ms/step - loss: 904.5927 - mean_squared_error: 904.5927 - accuracy: 0.0000e+00 - val_loss: 165.0285 - val_mean_squared_error: 165.0285 - val_accuracy: 0.0000e+00\n",
            "Epoch 3/10\n",
            "155/155 [==============================] - 1s 5ms/step - loss: 514.2545 - mean_squared_error: 514.2545 - accuracy: 0.0000e+00 - val_loss: 76.4917 - val_mean_squared_error: 76.4917 - val_accuracy: 0.0000e+00\n",
            "Epoch 4/10\n",
            "155/155 [==============================] - 1s 5ms/step - loss: 325.6237 - mean_squared_error: 325.6237 - accuracy: 0.0000e+00 - val_loss: 52.1277 - val_mean_squared_error: 52.1277 - val_accuracy: 0.0000e+00\n",
            "Epoch 5/10\n",
            "155/155 [==============================] - 1s 5ms/step - loss: 226.7923 - mean_squared_error: 226.7923 - accuracy: 0.0000e+00 - val_loss: 37.7312 - val_mean_squared_error: 37.7312 - val_accuracy: 0.0000e+00\n",
            "Epoch 6/10\n",
            "155/155 [==============================] - 1s 6ms/step - loss: 174.1987 - mean_squared_error: 174.1987 - accuracy: 0.0000e+00 - val_loss: 28.5555 - val_mean_squared_error: 28.5555 - val_accuracy: 0.0000e+00\n",
            "Epoch 7/10\n",
            "155/155 [==============================] - 1s 6ms/step - loss: 123.3549 - mean_squared_error: 123.3549 - accuracy: 0.0000e+00 - val_loss: 24.2187 - val_mean_squared_error: 24.2187 - val_accuracy: 0.0000e+00\n",
            "Epoch 8/10\n",
            "155/155 [==============================] - 1s 4ms/step - loss: 107.1901 - mean_squared_error: 107.1901 - accuracy: 0.0000e+00 - val_loss: 21.3175 - val_mean_squared_error: 21.3175 - val_accuracy: 0.0000e+00\n",
            "Epoch 9/10\n",
            "155/155 [==============================] - 1s 4ms/step - loss: 83.9434 - mean_squared_error: 83.9434 - accuracy: 0.0000e+00 - val_loss: 18.6524 - val_mean_squared_error: 18.6524 - val_accuracy: 0.0000e+00\n",
            "Epoch 10/10\n",
            "155/155 [==============================] - 1s 3ms/step - loss: 68.9275 - mean_squared_error: 68.9275 - accuracy: 0.0000e+00 - val_loss: 20.0113 - val_mean_squared_error: 20.0113 - val_accuracy: 0.0000e+00\n",
            "83/83 [==============================] - 0s 2ms/step - loss: 20.2841 - mean_squared_error: 20.2841 - accuracy: 0.0000e+00\n"
          ]
        },
        {
          "output_type": "display_data",
          "data": {
            "text/plain": [
              "<Figure size 640x480 with 1 Axes>"
            ],
            "image/png": "[encoded data removed]"
          },
          "metadata": {}
        },
        {
          "output_type": "stream",
          "name": "stdout",
          "text": [
            "Test Loss (mean squared error): [20.28413963317871, 20.28413963317871, 0.0]\n"
          ]
        }
      ],
      "source": [
        "fit_evaluate_model(model2, 0.001, MeanSquaredError(), ['mean_squared_error'], 10)"
      ]
    },
    {
      "cell_type": "code",
      "execution_count": 79,
      "metadata": {
        "colab": {
          "base_uri": "https://localhost:8080/"
        },
        "id": "hXCMLxS6JaIy",
        "outputId": "c12d0d70-8353-4b48-9ba4-e32b598aea05"
      },
      "outputs": [
        {
          "output_type": "stream",
          "name": "stdout",
          "text": [
            "83/83 [==============================] - 0s 2ms/step\n",
            "R-squared: -30.307158624117204\n",
            "Explained Variance: -14.881390716479256\n"
          ]
        }
      ],
      "source": [
        "predict_from_model_regression(model2)"
      ]
    },
    {
      "cell_type": "markdown",
      "metadata": {
        "id": "BpCgaEcyspLE"
      },
      "source": [
        "### 📉 **Classification**\n",
        "***target = popularity_class_label***"
      ]
    },
    {
      "cell_type": "markdown",
      "metadata": {
        "id": "3aVYaNwhsubJ"
      },
      "source": [
        "#### 🔢 **Numeric features**"
      ]
    },
    {
      "cell_type": "code",
      "execution_count": 80,
      "metadata": {
        "id": "_1iJmFy_5cEy"
      },
      "outputs": [],
      "source": [
        "y_classification_encoded = to_categorical(y_classification, num_classes=7)"
      ]
    },
    {
      "cell_type": "code",
      "execution_count": 81,
      "metadata": {
        "colab": {
          "base_uri": "https://localhost:8080/"
        },
        "id": "qh8l_45WsxaS",
        "outputId": "28c4305a-6da2-4de0-bc11-a123e1657129"
      },
      "outputs": [
        {
          "output_type": "stream",
          "name": "stdout",
          "text": [
            "Training set shape: (6181, 5) (6181, 7)\n",
            "Testing set shape: (2649, 5) (2649, 7)\n"
          ]
        }
      ],
      "source": [
        "X_train, X_test, y_train, y_test = split_dataset(X_numeric_classification_normalized, y_classification_encoded)"
      ]
    },
    {
      "cell_type": "code",
      "execution_count": 82,
      "metadata": {
        "id": "9nWeCBpY1BcV"
      },
      "outputs": [],
      "source": [
        "max_len = max_len_overview\n",
        "model1 = build_model1_classification(X_numeric_classification_normalized.shape[1])\n",
        "model2 = build_model2(X_numeric_classification_normalized.shape[1])"
      ]
    },
    {
      "cell_type": "code",
      "execution_count": 83,
      "metadata": {
        "colab": {
          "base_uri": "https://localhost:8080/",
          "height": 1000
        },
        "id": "da-5xWS82EF0",
        "outputId": "0cf801eb-4467-43dc-c5c6-503dfaafe31e"
      },
      "outputs": [
        {
          "output_type": "stream",
          "name": "stdout",
          "text": [
            "Epoch 1/50\n",
            "155/155 [==============================] - 2s 4ms/step - loss: 1.5874 - accuracy: 0.4258 - val_loss: 1.3165 - val_accuracy: 0.4543\n",
            "Epoch 2/50\n",
            "155/155 [==============================] - 1s 4ms/step - loss: 1.3428 - accuracy: 0.4288 - val_loss: 1.3027 - val_accuracy: 0.4406\n",
            "Epoch 3/50\n",
            "155/155 [==============================] - 1s 4ms/step - loss: 1.3281 - accuracy: 0.4373 - val_loss: 1.2897 - val_accuracy: 0.4406\n",
            "Epoch 4/50\n",
            "155/155 [==============================] - 0s 3ms/step - loss: 1.3205 - accuracy: 0.4361 - val_loss: 1.2868 - val_accuracy: 0.4406\n",
            "Epoch 5/50\n",
            "155/155 [==============================] - 0s 3ms/step - loss: 1.3218 - accuracy: 0.4389 - val_loss: 1.2825 - val_accuracy: 0.4406\n",
            "Epoch 6/50\n",
            "155/155 [==============================] - 0s 3ms/step - loss: 1.3201 - accuracy: 0.4381 - val_loss: 1.2838 - val_accuracy: 0.4406\n",
            "Epoch 7/50\n",
            "155/155 [==============================] - 1s 3ms/step - loss: 1.3196 - accuracy: 0.4375 - val_loss: 1.2912 - val_accuracy: 0.4406\n",
            "Epoch 8/50\n",
            "155/155 [==============================] - 1s 3ms/step - loss: 1.3205 - accuracy: 0.4397 - val_loss: 1.2844 - val_accuracy: 0.4406\n",
            "Epoch 9/50\n",
            "155/155 [==============================] - 0s 3ms/step - loss: 1.3185 - accuracy: 0.4399 - val_loss: 1.2815 - val_accuracy: 0.4406\n",
            "Epoch 10/50\n",
            "155/155 [==============================] - 0s 3ms/step - loss: 1.3149 - accuracy: 0.4369 - val_loss: 1.2905 - val_accuracy: 0.4406\n",
            "Epoch 11/50\n",
            "155/155 [==============================] - 0s 3ms/step - loss: 1.3181 - accuracy: 0.4393 - val_loss: 1.2818 - val_accuracy: 0.4406\n",
            "Epoch 12/50\n",
            "155/155 [==============================] - 1s 4ms/step - loss: 1.3180 - accuracy: 0.4399 - val_loss: 1.2846 - val_accuracy: 0.4406\n",
            "Epoch 13/50\n",
            "155/155 [==============================] - 1s 4ms/step - loss: 1.3152 - accuracy: 0.4387 - val_loss: 1.2814 - val_accuracy: 0.4406\n",
            "Epoch 14/50\n",
            "155/155 [==============================] - 1s 6ms/step - loss: 1.3178 - accuracy: 0.4391 - val_loss: 1.2852 - val_accuracy: 0.4406\n",
            "Epoch 15/50\n",
            "155/155 [==============================] - 1s 5ms/step - loss: 1.3178 - accuracy: 0.4393 - val_loss: 1.2857 - val_accuracy: 0.4406\n",
            "Epoch 16/50\n",
            "155/155 [==============================] - 1s 5ms/step - loss: 1.3173 - accuracy: 0.4401 - val_loss: 1.2845 - val_accuracy: 0.4406\n",
            "Epoch 17/50\n",
            "155/155 [==============================] - 1s 5ms/step - loss: 1.3167 - accuracy: 0.4397 - val_loss: 1.2837 - val_accuracy: 0.4406\n",
            "Epoch 18/50\n",
            "155/155 [==============================] - 1s 4ms/step - loss: 1.3170 - accuracy: 0.4391 - val_loss: 1.2824 - val_accuracy: 0.4406\n",
            "Epoch 19/50\n",
            "155/155 [==============================] - 0s 3ms/step - loss: 1.3189 - accuracy: 0.4395 - val_loss: 1.2828 - val_accuracy: 0.4406\n",
            "Epoch 20/50\n",
            "155/155 [==============================] - 1s 4ms/step - loss: 1.3147 - accuracy: 0.4397 - val_loss: 1.2825 - val_accuracy: 0.4406\n",
            "Epoch 21/50\n",
            "155/155 [==============================] - 0s 3ms/step - loss: 1.3161 - accuracy: 0.4395 - val_loss: 1.2843 - val_accuracy: 0.4406\n",
            "Epoch 22/50\n",
            "155/155 [==============================] - 0s 3ms/step - loss: 1.3159 - accuracy: 0.4397 - val_loss: 1.2847 - val_accuracy: 0.4406\n",
            "Epoch 23/50\n",
            "155/155 [==============================] - 0s 3ms/step - loss: 1.3173 - accuracy: 0.4395 - val_loss: 1.2855 - val_accuracy: 0.4406\n",
            "Epoch 24/50\n",
            "155/155 [==============================] - 0s 3ms/step - loss: 1.3164 - accuracy: 0.4389 - val_loss: 1.2837 - val_accuracy: 0.4406\n",
            "Epoch 25/50\n",
            "155/155 [==============================] - 0s 3ms/step - loss: 1.3172 - accuracy: 0.4395 - val_loss: 1.2830 - val_accuracy: 0.4406\n",
            "Epoch 26/50\n",
            "155/155 [==============================] - 0s 3ms/step - loss: 1.3158 - accuracy: 0.4395 - val_loss: 1.2830 - val_accuracy: 0.4406\n",
            "Epoch 27/50\n",
            "155/155 [==============================] - 1s 3ms/step - loss: 1.3158 - accuracy: 0.4395 - val_loss: 1.2827 - val_accuracy: 0.4406\n",
            "Epoch 28/50\n",
            "155/155 [==============================] - 1s 3ms/step - loss: 1.3175 - accuracy: 0.4391 - val_loss: 1.2857 - val_accuracy: 0.4406\n",
            "Epoch 29/50\n",
            "155/155 [==============================] - 1s 4ms/step - loss: 1.3146 - accuracy: 0.4395 - val_loss: 1.2832 - val_accuracy: 0.4406\n",
            "Epoch 30/50\n",
            "155/155 [==============================] - 1s 4ms/step - loss: 1.3176 - accuracy: 0.4395 - val_loss: 1.2832 - val_accuracy: 0.4406\n",
            "Epoch 31/50\n",
            "155/155 [==============================] - 0s 3ms/step - loss: 1.3160 - accuracy: 0.4395 - val_loss: 1.2823 - val_accuracy: 0.4406\n",
            "Epoch 32/50\n",
            "155/155 [==============================] - 1s 4ms/step - loss: 1.3164 - accuracy: 0.4395 - val_loss: 1.2826 - val_accuracy: 0.4406\n",
            "Epoch 33/50\n",
            "155/155 [==============================] - 1s 4ms/step - loss: 1.3167 - accuracy: 0.4395 - val_loss: 1.2833 - val_accuracy: 0.4406\n",
            "Epoch 34/50\n",
            "155/155 [==============================] - 0s 3ms/step - loss: 1.3176 - accuracy: 0.4391 - val_loss: 1.2833 - val_accuracy: 0.4406\n",
            "Epoch 35/50\n",
            "155/155 [==============================] - 1s 3ms/step - loss: 1.3151 - accuracy: 0.4395 - val_loss: 1.2813 - val_accuracy: 0.4406\n",
            "Epoch 36/50\n",
            "155/155 [==============================] - 0s 3ms/step - loss: 1.3157 - accuracy: 0.4401 - val_loss: 1.2856 - val_accuracy: 0.4406\n",
            "Epoch 37/50\n",
            "155/155 [==============================] - 0s 3ms/step - loss: 1.3165 - accuracy: 0.4395 - val_loss: 1.2830 - val_accuracy: 0.4406\n",
            "Epoch 38/50\n",
            "155/155 [==============================] - 1s 5ms/step - loss: 1.3169 - accuracy: 0.4395 - val_loss: 1.2846 - val_accuracy: 0.4406\n",
            "Epoch 39/50\n",
            "155/155 [==============================] - 1s 5ms/step - loss: 1.3141 - accuracy: 0.4395 - val_loss: 1.2822 - val_accuracy: 0.4406\n",
            "Epoch 40/50\n",
            "155/155 [==============================] - 1s 5ms/step - loss: 1.3159 - accuracy: 0.4393 - val_loss: 1.2816 - val_accuracy: 0.4406\n",
            "Epoch 41/50\n",
            "155/155 [==============================] - 1s 5ms/step - loss: 1.3162 - accuracy: 0.4395 - val_loss: 1.2824 - val_accuracy: 0.4406\n",
            "Epoch 42/50\n",
            "155/155 [==============================] - 1s 5ms/step - loss: 1.3168 - accuracy: 0.4395 - val_loss: 1.2829 - val_accuracy: 0.4406\n",
            "Epoch 43/50\n",
            "155/155 [==============================] - 1s 4ms/step - loss: 1.3155 - accuracy: 0.4395 - val_loss: 1.2816 - val_accuracy: 0.4406\n",
            "Epoch 44/50\n",
            "155/155 [==============================] - 0s 3ms/step - loss: 1.3169 - accuracy: 0.4395 - val_loss: 1.2822 - val_accuracy: 0.4406\n",
            "Epoch 45/50\n",
            "155/155 [==============================] - 0s 3ms/step - loss: 1.3139 - accuracy: 0.4395 - val_loss: 1.2817 - val_accuracy: 0.4406\n",
            "Epoch 46/50\n",
            "155/155 [==============================] - 0s 3ms/step - loss: 1.3155 - accuracy: 0.4395 - val_loss: 1.2839 - val_accuracy: 0.4406\n",
            "Epoch 47/50\n",
            "155/155 [==============================] - 1s 3ms/step - loss: 1.3167 - accuracy: 0.4393 - val_loss: 1.2832 - val_accuracy: 0.4406\n",
            "Epoch 48/50\n",
            "155/155 [==============================] - 0s 3ms/step - loss: 1.3162 - accuracy: 0.4395 - val_loss: 1.2837 - val_accuracy: 0.4406\n",
            "Epoch 49/50\n",
            "155/155 [==============================] - 1s 4ms/step - loss: 1.3135 - accuracy: 0.4395 - val_loss: 1.2814 - val_accuracy: 0.4406\n",
            "Epoch 50/50\n",
            "155/155 [==============================] - 1s 3ms/step - loss: 1.3147 - accuracy: 0.4397 - val_loss: 1.2838 - val_accuracy: 0.4406\n",
            "83/83 [==============================] - 0s 2ms/step - loss: 1.3155 - accuracy: 0.4300\n"
          ]
        },
        {
          "output_type": "display_data",
          "data": {
            "text/plain": [
              "<Figure size 640x480 with 1 Axes>"
            ],
            "image/png": "[encoded data removed]"
          },
          "metadata": {}
        },
        {
          "output_type": "stream",
          "name": "stdout",
          "text": [
            "Test Loss (mean squared error): [1.3155431747436523, 0.4299735724925995]\n"
          ]
        }
      ],
      "source": [
        "fit_evaluate_model(model1, 0.003, 'categorical_crossentropy', ['accuracy'], 50)"
      ]
    },
    {
      "cell_type": "code",
      "execution_count": 84,
      "metadata": {
        "colab": {
          "base_uri": "https://localhost:8080/"
        },
        "id": "HThfbmy8JcAS",
        "outputId": "808465bf-457f-4015-dd04-a35236c38e6c"
      },
      "outputs": [
        {
          "output_type": "stream",
          "name": "stdout",
          "text": [
            "83/83 [==============================] - 0s 2ms/step\n",
            "Confusion Matrix:\n",
            " [[   0    0    0  931    0    0    0]\n",
            " [   0    0    0   26    0    0    0]\n",
            " [   0    0    0   93    0    0    0]\n",
            " [   0    0    0 1139    0    0    0]\n",
            " [   0    0    0  171    0    0    0]\n",
            " [   0    0    0    1    0    0    0]\n",
            " [   0    0    0  288    0    0    0]]\n",
            "Classification Report:\n",
            "               precision    recall  f1-score   support\n",
            "\n",
            "           0       1.00      0.00      0.00       931\n",
            "           1       1.00      0.00      0.00        26\n",
            "           2       1.00      0.00      0.00        93\n",
            "           3       0.43      1.00      0.60      1139\n",
            "           4       1.00      0.00      0.00       171\n",
            "           5       1.00      0.00      0.00         1\n",
            "           6       1.00      0.00      0.00       288\n",
            "\n",
            "    accuracy                           0.43      2649\n",
            "   macro avg       0.92      0.14      0.09      2649\n",
            "weighted avg       0.75      0.43      0.26      2649\n",
            "\n",
            "Accuracy: 0.42997357493393734\n"
          ]
        }
      ],
      "source": [
        "predict_from_model_classification(model1)"
      ]
    },
    {
      "cell_type": "code",
      "execution_count": 85,
      "metadata": {
        "colab": {
          "base_uri": "https://localhost:8080/",
          "height": 1000
        },
        "id": "r7Zx7xTB8zkV",
        "outputId": "8701b1a0-ab61-4e17-eaf7-80b6042be25b"
      },
      "outputs": [
        {
          "output_type": "stream",
          "name": "stdout",
          "text": [
            "Epoch 1/20\n",
            "155/155 [==============================] - 2s 5ms/step - loss: 1.3146 - accuracy: 0.4395 - val_loss: 1.2831 - val_accuracy: 0.4406\n",
            "Epoch 2/20\n",
            "155/155 [==============================] - 1s 4ms/step - loss: 1.3141 - accuracy: 0.4395 - val_loss: 1.2823 - val_accuracy: 0.4406\n",
            "Epoch 3/20\n",
            "155/155 [==============================] - 0s 3ms/step - loss: 1.3136 - accuracy: 0.4395 - val_loss: 1.2824 - val_accuracy: 0.4406\n",
            "Epoch 4/20\n",
            "155/155 [==============================] - 1s 4ms/step - loss: 1.3127 - accuracy: 0.4395 - val_loss: 1.2816 - val_accuracy: 0.4406\n",
            "Epoch 5/20\n",
            "155/155 [==============================] - 0s 3ms/step - loss: 1.3129 - accuracy: 0.4395 - val_loss: 1.2814 - val_accuracy: 0.4406\n",
            "Epoch 6/20\n",
            "155/155 [==============================] - 1s 3ms/step - loss: 1.3135 - accuracy: 0.4395 - val_loss: 1.2833 - val_accuracy: 0.4406\n",
            "Epoch 7/20\n",
            "155/155 [==============================] - 1s 3ms/step - loss: 1.3138 - accuracy: 0.4395 - val_loss: 1.2834 - val_accuracy: 0.4406\n",
            "Epoch 8/20\n",
            "155/155 [==============================] - 0s 3ms/step - loss: 1.3139 - accuracy: 0.4395 - val_loss: 1.2816 - val_accuracy: 0.4406\n",
            "Epoch 9/20\n",
            "155/155 [==============================] - 1s 4ms/step - loss: 1.3136 - accuracy: 0.4395 - val_loss: 1.2830 - val_accuracy: 0.4406\n",
            "Epoch 10/20\n",
            "155/155 [==============================] - 1s 5ms/step - loss: 1.3139 - accuracy: 0.4395 - val_loss: 1.2821 - val_accuracy: 0.4406\n",
            "Epoch 11/20\n",
            "155/155 [==============================] - 1s 4ms/step - loss: 1.3139 - accuracy: 0.4395 - val_loss: 1.2832 - val_accuracy: 0.4406\n",
            "Epoch 12/20\n",
            "155/155 [==============================] - 1s 5ms/step - loss: 1.3129 - accuracy: 0.4395 - val_loss: 1.2824 - val_accuracy: 0.4406\n",
            "Epoch 13/20\n",
            "155/155 [==============================] - 1s 5ms/step - loss: 1.3139 - accuracy: 0.4395 - val_loss: 1.2823 - val_accuracy: 0.4406\n",
            "Epoch 14/20\n",
            "155/155 [==============================] - 1s 5ms/step - loss: 1.3139 - accuracy: 0.4395 - val_loss: 1.2822 - val_accuracy: 0.4406\n",
            "Epoch 15/20\n",
            "155/155 [==============================] - 1s 4ms/step - loss: 1.3135 - accuracy: 0.4395 - val_loss: 1.2819 - val_accuracy: 0.4406\n",
            "Epoch 16/20\n",
            "155/155 [==============================] - 0s 3ms/step - loss: 1.3135 - accuracy: 0.4395 - val_loss: 1.2837 - val_accuracy: 0.4406\n",
            "Epoch 17/20\n",
            "155/155 [==============================] - 0s 3ms/step - loss: 1.3144 - accuracy: 0.4395 - val_loss: 1.2821 - val_accuracy: 0.4406\n",
            "Epoch 18/20\n",
            "155/155 [==============================] - 1s 3ms/step - loss: 1.3135 - accuracy: 0.4395 - val_loss: 1.2822 - val_accuracy: 0.4406\n",
            "Epoch 19/20\n",
            "155/155 [==============================] - 1s 4ms/step - loss: 1.3134 - accuracy: 0.4395 - val_loss: 1.2814 - val_accuracy: 0.4406\n",
            "Epoch 20/20\n",
            "155/155 [==============================] - 0s 3ms/step - loss: 1.3129 - accuracy: 0.4395 - val_loss: 1.2814 - val_accuracy: 0.4406\n",
            "83/83 [==============================] - 0s 2ms/step - loss: 1.3156 - accuracy: 0.4300\n"
          ]
        },
        {
          "output_type": "display_data",
          "data": {
            "text/plain": [
              "<Figure size 640x480 with 1 Axes>"
            ],
            "image/png": "[encoded data removed]"
          },
          "metadata": {}
        },
        {
          "output_type": "stream",
          "name": "stdout",
          "text": [
            "Test Loss (mean squared error): [1.3156248331069946, 0.4299735724925995]\n"
          ]
        }
      ],
      "source": [
        "fit_evaluate_model(model1, 0.001, 'categorical_crossentropy', ['accuracy'], 20)"
      ]
    },
    {
      "cell_type": "code",
      "execution_count": 86,
      "metadata": {
        "colab": {
          "base_uri": "https://localhost:8080/"
        },
        "id": "oWykqJ0NJdXS",
        "outputId": "25991d19-2d1b-441d-9a17-e7e1fea76d7f"
      },
      "outputs": [
        {
          "output_type": "stream",
          "name": "stdout",
          "text": [
            "83/83 [==============================] - 0s 2ms/step\n",
            "Confusion Matrix:\n",
            " [[ 931    0    0    0    0    0    0]\n",
            " [  26    0    0    0    0    0    0]\n",
            " [  93    0    0    0    0    0    0]\n",
            " [1139    0    0    0    0    0    0]\n",
            " [ 171    0    0    0    0    0    0]\n",
            " [   1    0    0    0    0    0    0]\n",
            " [ 288    0    0    0    0    0    0]]\n",
            "Classification Report:\n",
            "               precision    recall  f1-score   support\n",
            "\n",
            "           0       0.35      1.00      0.52       931\n",
            "           1       1.00      0.00      0.00        26\n",
            "           2       1.00      0.00      0.00        93\n",
            "           3       1.00      0.00      0.00      1139\n",
            "           4       1.00      0.00      0.00       171\n",
            "           5       1.00      0.00      0.00         1\n",
            "           6       1.00      0.00      0.00       288\n",
            "\n",
            "    accuracy                           0.35      2649\n",
            "   macro avg       0.91      0.14      0.07      2649\n",
            "weighted avg       0.77      0.35      0.18      2649\n",
            "\n",
            "Accuracy: 0.35145337863344656\n"
          ]
        }
      ],
      "source": [
        "predict_from_model_classification(model2)"
      ]
    },
    {
      "cell_type": "markdown",
      "metadata": {
        "id": "0rvGuBJTsyHD"
      },
      "source": [
        "#### 🔠 **Overview: Text features**"
      ]
    },
    {
      "cell_type": "code",
      "execution_count": 87,
      "metadata": {
        "id": "j0lh29i0dkv1"
      },
      "outputs": [],
      "source": [
        "y_classification_encoded = to_categorical(y_classification, num_classes=7)"
      ]
    },
    {
      "cell_type": "code",
      "execution_count": 88,
      "metadata": {
        "colab": {
          "base_uri": "https://localhost:8080/"
        },
        "id": "3jrrVjzZssma",
        "outputId": "90f09678-0a0b-4765-8465-c44e8391b4d2"
      },
      "outputs": [
        {
          "output_type": "stream",
          "name": "stdout",
          "text": [
            "Training set shape: (6181, 500) (6181, 7)\n",
            "Testing set shape: (2649, 500) (2649, 7)\n"
          ]
        }
      ],
      "source": [
        "X_train, X_test, y_train, y_test = split_dataset(X_text_vectorized, y_classification_encoded)"
      ]
    },
    {
      "cell_type": "code",
      "execution_count": 89,
      "metadata": {
        "id": "DMZ5zPd18pEY"
      },
      "outputs": [],
      "source": [
        "max_len = max_len_overview\n",
        "model_embedding = build_model_embedding()"
      ]
    },
    {
      "cell_type": "code",
      "source": [
        "model_embedding.summary()"
      ],
      "metadata": {
        "colab": {
          "base_uri": "https://localhost:8080/"
        },
        "id": "Cd6fv17_XNWD",
        "outputId": "5b0a61dd-1edc-4852-abf8-d18e903c6e51"
      },
      "execution_count": 107,
      "outputs": [
        {
          "output_type": "stream",
          "name": "stdout",
          "text": [
            "Model: \"sequential_13\"\n",
            "_________________________________________________________________\n",
            " Layer (type)                Output Shape              Param #   \n",
            "=================================================================\n",
            " embedding_5 (Embedding)     (None, 90, 64)            640000    \n",
            "                                                                 \n",
            " flatten_3 (Flatten)         (None, 5760)              0         \n",
            "                                                                 \n",
            " dense_45 (Dense)            (None, 128)               737408    \n",
            "                                                                 \n",
            " dense_46 (Dense)            (None, 64)                8256      \n",
            "                                                                 \n",
            " dense_47 (Dense)            (None, 7)                 455       \n",
            "                                                                 \n",
            "=================================================================\n",
            "Total params: 1386119 (5.29 MB)\n",
            "Trainable params: 1386119 (5.29 MB)\n",
            "Non-trainable params: 0 (0.00 Byte)\n",
            "_________________________________________________________________\n"
          ]
        }
      ]
    },
    {
      "cell_type": "code",
      "execution_count": 90,
      "metadata": {
        "colab": {
          "base_uri": "https://localhost:8080/",
          "height": 831
        },
        "id": "m7K9IwRk8_Y1",
        "outputId": "2bfcceea-a4cd-402a-bdbf-51c13662fbd6"
      },
      "outputs": [
        {
          "output_type": "stream",
          "name": "stdout",
          "text": [
            "Epoch 1/10\n",
            "155/155 [==============================] - 14s 86ms/step - loss: 1.9694 - accuracy: 0.4171 - val_loss: 1.4502 - val_accuracy: 0.4406\n",
            "Epoch 2/10\n",
            "155/155 [==============================] - 13s 84ms/step - loss: 0.9939 - accuracy: 0.6349 - val_loss: 1.7266 - val_accuracy: 0.3953\n",
            "Epoch 3/10\n",
            "155/155 [==============================] - 13s 82ms/step - loss: 0.4325 - accuracy: 0.8655 - val_loss: 2.1902 - val_accuracy: 0.3274\n",
            "Epoch 4/10\n",
            "155/155 [==============================] - 11s 73ms/step - loss: 0.1671 - accuracy: 0.9632 - val_loss: 2.5367 - val_accuracy: 0.3500\n",
            "Epoch 5/10\n",
            "155/155 [==============================] - 12s 78ms/step - loss: 0.0785 - accuracy: 0.9911 - val_loss: 2.7298 - val_accuracy: 0.3727\n",
            "Epoch 6/10\n",
            "155/155 [==============================] - 12s 77ms/step - loss: 0.0492 - accuracy: 0.9956 - val_loss: 2.5349 - val_accuracy: 0.4244\n",
            "Epoch 7/10\n",
            "155/155 [==============================] - 12s 79ms/step - loss: 0.0300 - accuracy: 0.9974 - val_loss: 2.5222 - val_accuracy: 0.3468\n",
            "Epoch 8/10\n",
            "155/155 [==============================] - 11s 74ms/step - loss: 0.0289 - accuracy: 0.9980 - val_loss: 2.6746 - val_accuracy: 0.3492\n",
            "Epoch 9/10\n",
            "155/155 [==============================] - 11s 68ms/step - loss: 0.0258 - accuracy: 0.9986 - val_loss: 2.6089 - val_accuracy: 0.3735\n",
            "Epoch 10/10\n",
            "155/155 [==============================] - 12s 75ms/step - loss: 0.0213 - accuracy: 0.9982 - val_loss: 2.5083 - val_accuracy: 0.3888\n",
            "83/83 [==============================] - 1s 10ms/step - loss: 2.7500 - accuracy: 0.3586\n"
          ]
        },
        {
          "output_type": "display_data",
          "data": {
            "text/plain": [
              "<Figure size 640x480 with 1 Axes>"
            ],
            "image/png": "[encoded data removed]"
          },
          "metadata": {}
        },
        {
          "output_type": "stream",
          "name": "stdout",
          "text": [
            "Test Loss (mean squared error): [2.750009298324585, 0.3586258888244629]\n"
          ]
        }
      ],
      "source": [
        "fit_evaluate_model(model_embedding, 0.01, 'categorical_crossentropy', ['accuracy'], 10)"
      ]
    },
    {
      "cell_type": "code",
      "execution_count": 91,
      "metadata": {
        "colab": {
          "base_uri": "https://localhost:8080/"
        },
        "id": "ufRl7PmDUFSS",
        "outputId": "e1748ec3-3453-47b3-a7dd-2350106aaca2"
      },
      "outputs": [
        {
          "output_type": "stream",
          "name": "stdout",
          "text": [
            "83/83 [==============================] - 1s 10ms/step\n",
            "Confusion Matrix:\n",
            " [[416   0   2 373  31   0 109]\n",
            " [ 11   0   0  11   1   0   3]\n",
            " [ 35   0   3  38   3   0  14]\n",
            " [474   1   3 491  35   0 135]\n",
            " [ 77   0   0  64  11   0  19]\n",
            " [  0   0   0   1   0   0   0]\n",
            " [112   0   0 142   5   0  29]]\n",
            "Classification Report:\n",
            "               precision    recall  f1-score   support\n",
            "\n",
            "           0       0.37      0.45      0.40       931\n",
            "           1       0.00      0.00      0.00        26\n",
            "           2       0.38      0.03      0.06        93\n",
            "           3       0.44      0.43      0.43      1139\n",
            "           4       0.13      0.06      0.09       171\n",
            "           5       1.00      0.00      0.00         1\n",
            "           6       0.09      0.10      0.10       288\n",
            "\n",
            "    accuracy                           0.36      2649\n",
            "   macro avg       0.34      0.15      0.15      2649\n",
            "weighted avg       0.35      0.36      0.35      2649\n",
            "\n",
            "Accuracy: 0.3586258965647414\n"
          ]
        }
      ],
      "source": [
        "predict_from_model_classification(model_embedding)"
      ]
    },
    {
      "cell_type": "code",
      "execution_count": 92,
      "metadata": {
        "id": "DZPpvKp2W6gk"
      },
      "outputs": [],
      "source": [
        "max_len = max_len_overview\n",
        "model_embedding_2 = build_model_embedding_2()"
      ]
    },
    {
      "cell_type": "code",
      "source": [
        "model_embedding_2.summary()"
      ],
      "metadata": {
        "colab": {
          "base_uri": "https://localhost:8080/"
        },
        "id": "sBqXQNodXdZ7",
        "outputId": "b045926a-600e-4515-f530-41ab6b9abec2"
      },
      "execution_count": 108,
      "outputs": [
        {
          "output_type": "stream",
          "name": "stdout",
          "text": [
            "Model: \"sequential_9\"\n",
            "_________________________________________________________________\n",
            " Layer (type)                Output Shape              Param #   \n",
            "=================================================================\n",
            " embedding_1 (Embedding)     (None, 500, 128)          1280000   \n",
            "                                                                 \n",
            " conv1d (Conv1D)             (None, 494, 32)           28704     \n",
            "                                                                 \n",
            " max_pooling1d (MaxPooling1  (None, 98, 32)            0         \n",
            " D)                                                              \n",
            "                                                                 \n",
            " conv1d_1 (Conv1D)           (None, 92, 32)            7200      \n",
            "                                                                 \n",
            " global_max_pooling1d (Glob  (None, 32)                0         \n",
            " alMaxPooling1D)                                                 \n",
            "                                                                 \n",
            " dense_38 (Dense)            (None, 7)                 231       \n",
            "                                                                 \n",
            "=================================================================\n",
            "Total params: 1316135 (5.02 MB)\n",
            "Trainable params: 1316135 (5.02 MB)\n",
            "Non-trainable params: 0 (0.00 Byte)\n",
            "_________________________________________________________________\n"
          ]
        }
      ]
    },
    {
      "cell_type": "code",
      "execution_count": 93,
      "metadata": {
        "colab": {
          "base_uri": "https://localhost:8080/",
          "height": 1000
        },
        "id": "2txb3KJ2Xb9D",
        "outputId": "a984fbd1-b1b1-4481-d932-a785b3e85af2"
      },
      "outputs": [
        {
          "output_type": "stream",
          "name": "stdout",
          "text": [
            "Epoch 1/20\n",
            "155/155 [==============================] - 23s 145ms/step - loss: 1.9371 - accuracy: 0.0862 - val_loss: 1.9204 - val_accuracy: 0.3961\n",
            "Epoch 2/20\n",
            "155/155 [==============================] - 19s 125ms/step - loss: 1.9039 - accuracy: 0.4320 - val_loss: 1.8831 - val_accuracy: 0.4406\n",
            "Epoch 3/20\n",
            "155/155 [==============================] - 19s 125ms/step - loss: 1.8585 - accuracy: 0.4395 - val_loss: 1.8278 - val_accuracy: 0.4406\n",
            "Epoch 4/20\n",
            "155/155 [==============================] - 21s 137ms/step - loss: 1.7915 - accuracy: 0.4395 - val_loss: 1.7459 - val_accuracy: 0.4406\n",
            "Epoch 5/20\n",
            "155/155 [==============================] - 19s 124ms/step - loss: 1.7056 - accuracy: 0.4395 - val_loss: 1.6532 - val_accuracy: 0.4406\n",
            "Epoch 6/20\n",
            "155/155 [==============================] - 20s 127ms/step - loss: 1.6177 - accuracy: 0.4395 - val_loss: 1.5653 - val_accuracy: 0.4406\n",
            "Epoch 7/20\n",
            "155/155 [==============================] - 22s 141ms/step - loss: 1.5398 - accuracy: 0.4395 - val_loss: 1.4903 - val_accuracy: 0.4406\n",
            "Epoch 8/20\n",
            "155/155 [==============================] - 21s 138ms/step - loss: 1.4778 - accuracy: 0.4395 - val_loss: 1.4339 - val_accuracy: 0.4406\n",
            "Epoch 9/20\n",
            "155/155 [==============================] - 21s 135ms/step - loss: 1.4356 - accuracy: 0.4395 - val_loss: 1.3972 - val_accuracy: 0.4406\n",
            "Epoch 10/20\n",
            "155/155 [==============================] - 19s 123ms/step - loss: 1.4086 - accuracy: 0.4395 - val_loss: 1.3728 - val_accuracy: 0.4406\n",
            "Epoch 11/20\n",
            "155/155 [==============================] - 19s 123ms/step - loss: 1.3911 - accuracy: 0.4395 - val_loss: 1.3568 - val_accuracy: 0.4406\n",
            "Epoch 12/20\n",
            "155/155 [==============================] - 22s 140ms/step - loss: 1.3784 - accuracy: 0.4395 - val_loss: 1.3421 - val_accuracy: 0.4406\n",
            "Epoch 13/20\n",
            "155/155 [==============================] - 19s 124ms/step - loss: 1.3647 - accuracy: 0.4395 - val_loss: 1.3302 - val_accuracy: 0.4406\n",
            "Epoch 14/20\n",
            "155/155 [==============================] - 19s 124ms/step - loss: 1.3553 - accuracy: 0.4395 - val_loss: 1.3221 - val_accuracy: 0.4406\n",
            "Epoch 15/20\n",
            "155/155 [==============================] - 21s 139ms/step - loss: 1.3487 - accuracy: 0.4395 - val_loss: 1.3163 - val_accuracy: 0.4406\n",
            "Epoch 16/20\n",
            "155/155 [==============================] - 19s 125ms/step - loss: 1.3434 - accuracy: 0.4395 - val_loss: 1.3118 - val_accuracy: 0.4406\n",
            "Epoch 17/20\n",
            "155/155 [==============================] - 19s 124ms/step - loss: 1.3390 - accuracy: 0.4395 - val_loss: 1.3081 - val_accuracy: 0.4406\n",
            "Epoch 18/20\n",
            "155/155 [==============================] - 21s 134ms/step - loss: 1.3352 - accuracy: 0.4395 - val_loss: 1.3052 - val_accuracy: 0.4406\n",
            "Epoch 19/20\n",
            "155/155 [==============================] - 19s 124ms/step - loss: 1.3319 - accuracy: 0.4395 - val_loss: 1.3026 - val_accuracy: 0.4406\n",
            "Epoch 20/20\n",
            "155/155 [==============================] - 19s 126ms/step - loss: 1.3290 - accuracy: 0.4395 - val_loss: 1.3006 - val_accuracy: 0.4406\n",
            "83/83 [==============================] - 3s 31ms/step - loss: 1.3349 - accuracy: 0.4300\n"
          ]
        },
        {
          "output_type": "display_data",
          "data": {
            "text/plain": [
              "<Figure size 640x480 with 1 Axes>"
            ],
            "image/png": "[encoded data removed]"
          },
          "metadata": {}
        },
        {
          "output_type": "stream",
          "name": "stdout",
          "text": [
            "Test Loss (mean squared error): [1.3348604440689087, 0.4299735724925995]\n"
          ]
        }
      ],
      "source": [
        "fit_evaluate_model(model_embedding_2, 10E-6, 'categorical_crossentropy', ['accuracy'], 20)"
      ]
    },
    {
      "cell_type": "code",
      "execution_count": 94,
      "metadata": {
        "colab": {
          "base_uri": "https://localhost:8080/"
        },
        "id": "89pK7ifkX_qL",
        "outputId": "20871490-8b11-400f-e765-36e5db3215c0"
      },
      "outputs": [
        {
          "output_type": "stream",
          "name": "stdout",
          "text": [
            "83/83 [==============================] - 3s 40ms/step\n",
            "Confusion Matrix:\n",
            " [[   0    0    0  931    0    0    0]\n",
            " [   0    0    0   26    0    0    0]\n",
            " [   0    0    0   93    0    0    0]\n",
            " [   0    0    0 1139    0    0    0]\n",
            " [   0    0    0  171    0    0    0]\n",
            " [   0    0    0    1    0    0    0]\n",
            " [   0    0    0  288    0    0    0]]\n",
            "Classification Report:\n",
            "               precision    recall  f1-score   support\n",
            "\n",
            "           0       1.00      0.00      0.00       931\n",
            "           1       1.00      0.00      0.00        26\n",
            "           2       1.00      0.00      0.00        93\n",
            "           3       0.43      1.00      0.60      1139\n",
            "           4       1.00      0.00      0.00       171\n",
            "           5       1.00      0.00      0.00         1\n",
            "           6       1.00      0.00      0.00       288\n",
            "\n",
            "    accuracy                           0.43      2649\n",
            "   macro avg       0.92      0.14      0.09      2649\n",
            "weighted avg       0.75      0.43      0.26      2649\n",
            "\n",
            "Accuracy: 0.42997357493393734\n"
          ]
        }
      ],
      "source": [
        "predict_from_model_classification(model_embedding_2)"
      ]
    },
    {
      "cell_type": "code",
      "execution_count": 95,
      "metadata": {
        "id": "r6SVFF1_kUux"
      },
      "outputs": [],
      "source": [
        "max_len = max_len_overview\n",
        "model_embedding_3 = build_model_embedding_3()"
      ]
    },
    {
      "cell_type": "code",
      "execution_count": 96,
      "metadata": {
        "id": "oHsATtgXkVWk"
      },
      "outputs": [],
      "source": [
        "max_len = max_len_overview\n",
        "model_embedding_4 = build_model_embedding_4()"
      ]
    },
    {
      "cell_type": "code",
      "source": [
        "model_embedding_4.summary()"
      ],
      "metadata": {
        "colab": {
          "base_uri": "https://localhost:8080/"
        },
        "id": "fYxQBHEZZhgC",
        "outputId": "7d65f436-1564-4778-9529-70cf3f7c5576"
      },
      "execution_count": 109,
      "outputs": [
        {
          "output_type": "stream",
          "name": "stdout",
          "text": [
            "Model: \"sequential_11\"\n",
            "_________________________________________________________________\n",
            " Layer (type)                Output Shape              Param #   \n",
            "=================================================================\n",
            " embedding_3 (Embedding)     (None, 500, 64)           640000    \n",
            "                                                                 \n",
            " flatten_2 (Flatten)         (None, 32000)             0         \n",
            "                                                                 \n",
            " dense_40 (Dense)            (None, 32)                1024032   \n",
            "                                                                 \n",
            " dropout_11 (Dropout)        (None, 32)                0         \n",
            "                                                                 \n",
            " dense_41 (Dense)            (None, 32)                1056      \n",
            "                                                                 \n",
            " dropout_12 (Dropout)        (None, 32)                0         \n",
            "                                                                 \n",
            " dense_42 (Dense)            (None, 32)                1056      \n",
            "                                                                 \n",
            " dense_43 (Dense)            (None, 7)                 231       \n",
            "                                                                 \n",
            "=================================================================\n",
            "Total params: 1666375 (6.36 MB)\n",
            "Trainable params: 1666375 (6.36 MB)\n",
            "Non-trainable params: 0 (0.00 Byte)\n",
            "_________________________________________________________________\n"
          ]
        }
      ]
    },
    {
      "cell_type": "code",
      "execution_count": 97,
      "metadata": {
        "colab": {
          "base_uri": "https://localhost:8080/",
          "height": 831
        },
        "id": "h60J3k1op1zL",
        "outputId": "0843c795-6bd5-4aa3-cf9d-d97d36a20a8f"
      },
      "outputs": [
        {
          "output_type": "stream",
          "name": "stdout",
          "text": [
            "Epoch 1/10\n",
            "155/155 [==============================] - 5s 26ms/step - loss: 1.4123 - accuracy: 0.4246 - val_loss: 1.2881 - val_accuracy: 0.4406\n",
            "Epoch 2/10\n",
            "155/155 [==============================] - 4s 28ms/step - loss: 1.3195 - accuracy: 0.4387 - val_loss: 1.2848 - val_accuracy: 0.4406\n",
            "Epoch 3/10\n",
            "155/155 [==============================] - 5s 31ms/step - loss: 1.3156 - accuracy: 0.4397 - val_loss: 1.2879 - val_accuracy: 0.4406\n",
            "Epoch 4/10\n",
            "155/155 [==============================] - 4s 25ms/step - loss: 1.3157 - accuracy: 0.4361 - val_loss: 1.2831 - val_accuracy: 0.4406\n",
            "Epoch 5/10\n",
            "155/155 [==============================] - 4s 26ms/step - loss: 1.3161 - accuracy: 0.4302 - val_loss: 1.2853 - val_accuracy: 0.4406\n",
            "Epoch 6/10\n",
            "155/155 [==============================] - 5s 34ms/step - loss: 1.3167 - accuracy: 0.4345 - val_loss: 1.2855 - val_accuracy: 0.4406\n",
            "Epoch 7/10\n",
            "155/155 [==============================] - 4s 26ms/step - loss: 1.3177 - accuracy: 0.4395 - val_loss: 1.2855 - val_accuracy: 0.4406\n",
            "Epoch 8/10\n",
            "155/155 [==============================] - 4s 26ms/step - loss: 1.3164 - accuracy: 0.4379 - val_loss: 1.2911 - val_accuracy: 0.4406\n",
            "Epoch 9/10\n",
            "155/155 [==============================] - 5s 31ms/step - loss: 1.3155 - accuracy: 0.4397 - val_loss: 1.2826 - val_accuracy: 0.4406\n",
            "Epoch 10/10\n",
            "155/155 [==============================] - 4s 28ms/step - loss: 1.3159 - accuracy: 0.4395 - val_loss: 1.2852 - val_accuracy: 0.4406\n",
            "83/83 [==============================] - 0s 5ms/step - loss: 1.3184 - accuracy: 0.4300\n"
          ]
        },
        {
          "output_type": "display_data",
          "data": {
            "text/plain": [
              "<Figure size 640x480 with 1 Axes>"
            ],
            "image/png": "[encoded data removed]"
          },
          "metadata": {}
        },
        {
          "output_type": "stream",
          "name": "stdout",
          "text": [
            "Test Loss (mean squared error): [1.31843101978302, 0.4299735724925995]\n"
          ]
        }
      ],
      "source": [
        "fit_evaluate_model(model_embedding_4, 0.01, 'categorical_crossentropy', ['accuracy'], 10)"
      ]
    },
    {
      "cell_type": "code",
      "execution_count": 98,
      "metadata": {
        "colab": {
          "base_uri": "https://localhost:8080/"
        },
        "id": "R99OSgutkXjo",
        "outputId": "23727f92-8595-4987-873e-7365544fa49b"
      },
      "outputs": [
        {
          "output_type": "stream",
          "name": "stdout",
          "text": [
            "83/83 [==============================] - 0s 5ms/step\n",
            "Confusion Matrix:\n",
            " [[   0    0    0  931    0    0    0]\n",
            " [   0    0    0   26    0    0    0]\n",
            " [   0    0    0   93    0    0    0]\n",
            " [   0    0    0 1139    0    0    0]\n",
            " [   0    0    0  171    0    0    0]\n",
            " [   0    0    0    1    0    0    0]\n",
            " [   0    0    0  288    0    0    0]]\n",
            "Classification Report:\n",
            "               precision    recall  f1-score   support\n",
            "\n",
            "           0       1.00      0.00      0.00       931\n",
            "           1       1.00      0.00      0.00        26\n",
            "           2       1.00      0.00      0.00        93\n",
            "           3       0.43      1.00      0.60      1139\n",
            "           4       1.00      0.00      0.00       171\n",
            "           5       1.00      0.00      0.00         1\n",
            "           6       1.00      0.00      0.00       288\n",
            "\n",
            "    accuracy                           0.43      2649\n",
            "   macro avg       0.92      0.14      0.09      2649\n",
            "weighted avg       0.75      0.43      0.26      2649\n",
            "\n",
            "Accuracy: 0.42997357493393734\n"
          ]
        }
      ],
      "source": [
        "predict_from_model_classification(model_embedding_4)"
      ]
    },
    {
      "cell_type": "code",
      "source": [
        "model_lstm = build_lstm_model()"
      ],
      "metadata": {
        "id": "Ktbfv-GIp-wb"
      },
      "execution_count": 99,
      "outputs": []
    },
    {
      "cell_type": "code",
      "source": [
        "model_lstm.summary()"
      ],
      "metadata": {
        "colab": {
          "base_uri": "https://localhost:8080/"
        },
        "id": "PP_ziyi2aeUU",
        "outputId": "d4d02860-51bf-4f09-a2d5-5e9fc7921d36"
      },
      "execution_count": 110,
      "outputs": [
        {
          "output_type": "stream",
          "name": "stdout",
          "text": [
            "Model: \"sequential_12\"\n",
            "_________________________________________________________________\n",
            " Layer (type)                Output Shape              Param #   \n",
            "=================================================================\n",
            " embedding_4 (Embedding)     (None, 500, 128)          1280000   \n",
            "                                                                 \n",
            " spatial_dropout1d (Spatial  (None, 500, 128)          0         \n",
            " Dropout1D)                                                      \n",
            "                                                                 \n",
            " lstm_1 (LSTM)               (None, 50)                35800     \n",
            "                                                                 \n",
            " dense_44 (Dense)            (None, 7)                 357       \n",
            "                                                                 \n",
            "=================================================================\n",
            "Total params: 1316157 (5.02 MB)\n",
            "Trainable params: 1316157 (5.02 MB)\n",
            "Non-trainable params: 0 (0.00 Byte)\n",
            "_________________________________________________________________\n"
          ]
        }
      ]
    },
    {
      "cell_type": "code",
      "source": [
        "fit_evaluate_model(model_lstm, 0.01, 'categorical_crossentropy', ['accuracy'], 10)"
      ],
      "metadata": {
        "colab": {
          "base_uri": "https://localhost:8080/",
          "height": 831
        },
        "id": "u4m6Lb7bqDkr",
        "outputId": "bfe09395-e76f-42c5-95d2-02a3c069aa2b"
      },
      "execution_count": 100,
      "outputs": [
        {
          "output_type": "stream",
          "name": "stdout",
          "text": [
            "Epoch 1/10\n",
            "155/155 [==============================] - 164s 1s/step - loss: 1.3446 - accuracy: 0.4246 - val_loss: 1.2968 - val_accuracy: 0.4422\n",
            "Epoch 2/10\n",
            "155/155 [==============================] - 148s 955ms/step - loss: 1.1060 - accuracy: 0.5696 - val_loss: 1.4222 - val_accuracy: 0.4196\n",
            "Epoch 3/10\n",
            "155/155 [==============================] - 147s 950ms/step - loss: 0.5871 - accuracy: 0.7989 - val_loss: 1.9446 - val_accuracy: 0.3977\n",
            "Epoch 4/10\n",
            "155/155 [==============================] - 155s 1s/step - loss: 0.2718 - accuracy: 0.9098 - val_loss: 2.5612 - val_accuracy: 0.3864\n",
            "Epoch 5/10\n",
            "155/155 [==============================] - 149s 959ms/step - loss: 0.1259 - accuracy: 0.9602 - val_loss: 3.2181 - val_accuracy: 0.3743\n",
            "Epoch 6/10\n",
            "155/155 [==============================] - 152s 978ms/step - loss: 0.0748 - accuracy: 0.9763 - val_loss: 3.5736 - val_accuracy: 0.3840\n",
            "Epoch 7/10\n",
            "155/155 [==============================] - 146s 942ms/step - loss: 0.0453 - accuracy: 0.9850 - val_loss: 3.9687 - val_accuracy: 0.3864\n",
            "Epoch 8/10\n",
            "155/155 [==============================] - 151s 974ms/step - loss: 0.0316 - accuracy: 0.9903 - val_loss: 4.1975 - val_accuracy: 0.3921\n",
            "Epoch 9/10\n",
            "155/155 [==============================] - 153s 989ms/step - loss: 0.0267 - accuracy: 0.9917 - val_loss: 4.5611 - val_accuracy: 0.3985\n",
            "Epoch 10/10\n",
            "155/155 [==============================] - 165s 1s/step - loss: 0.0282 - accuracy: 0.9917 - val_loss: 4.8507 - val_accuracy: 0.3921\n",
            "83/83 [==============================] - 10s 124ms/step - loss: 5.0199 - accuracy: 0.3620\n"
          ]
        },
        {
          "output_type": "display_data",
          "data": {
            "text/plain": [
              "<Figure size 640x480 with 1 Axes>"
            ],
            "image/png": "[encoded data removed]"
          },
          "metadata": {}
        },
        {
          "output_type": "stream",
          "name": "stdout",
          "text": [
            "Test Loss (mean squared error): [5.019917011260986, 0.36202341318130493]\n"
          ]
        }
      ]
    },
    {
      "cell_type": "code",
      "source": [
        "predict_from_model_classification(model_lstm)"
      ],
      "metadata": {
        "colab": {
          "base_uri": "https://localhost:8080/"
        },
        "id": "_n92mQ4iqL_R",
        "outputId": "18437070-3ddd-48ff-a505-88529e0a8ec9"
      },
      "execution_count": 101,
      "outputs": [
        {
          "output_type": "stream",
          "name": "stdout",
          "text": [
            "83/83 [==============================] - 10s 114ms/step\n",
            "Confusion Matrix:\n",
            " [[296   3  24 449 104   0  55]\n",
            " [ 13   1   0   8   3   0   1]\n",
            " [ 20   0   3  54   9   0   7]\n",
            " [344   2  27 619  73   0  74]\n",
            " [ 66   3   1  73  18   0  10]\n",
            " [  0   0   0   1   0   0   0]\n",
            " [ 81   1  11 154  19   0  22]]\n",
            "Classification Report:\n",
            "               precision    recall  f1-score   support\n",
            "\n",
            "           0       0.36      0.32      0.34       931\n",
            "           1       0.10      0.04      0.06        26\n",
            "           2       0.05      0.03      0.04        93\n",
            "           3       0.46      0.54      0.50      1139\n",
            "           4       0.08      0.11      0.09       171\n",
            "           5       1.00      0.00      0.00         1\n",
            "           6       0.13      0.08      0.10       288\n",
            "\n",
            "    accuracy                           0.36      2649\n",
            "   macro avg       0.31      0.16      0.16      2649\n",
            "weighted avg       0.35      0.36      0.35      2649\n",
            "\n",
            "Accuracy: 0.36202340505851266\n"
          ]
        }
      ]
    },
    {
      "cell_type": "markdown",
      "metadata": {
        "id": "-M9Sj1X8vjFR"
      },
      "source": [
        "#### 🔠 **Title: Text features**"
      ]
    },
    {
      "cell_type": "code",
      "execution_count": 102,
      "metadata": {
        "id": "6bXAaUhdvwav"
      },
      "outputs": [],
      "source": [
        "y_classification_encoded = to_categorical(y_classification, num_classes=7)"
      ]
    },
    {
      "cell_type": "code",
      "execution_count": 103,
      "metadata": {
        "colab": {
          "base_uri": "https://localhost:8080/"
        },
        "id": "NQI4qaHtv_gM",
        "outputId": "9aa86ee5-9d9c-4441-9789-88646a8b70bc"
      },
      "outputs": [
        {
          "output_type": "stream",
          "name": "stdout",
          "text": [
            "Training set shape: (6181, 90) (6181, 7)\n",
            "Testing set shape: (2649, 90) (2649, 7)\n"
          ]
        }
      ],
      "source": [
        "X_train, X_test, y_train, y_test = split_dataset(X_text_vectorized_title, y_classification_encoded)"
      ]
    },
    {
      "cell_type": "code",
      "execution_count": 104,
      "metadata": {
        "id": "8fdV-dVjwChs"
      },
      "outputs": [],
      "source": [
        "max_len = max_len_title\n",
        "model_embedding = build_model_embedding()"
      ]
    },
    {
      "cell_type": "code",
      "source": [
        "model_embedding.summary()"
      ],
      "metadata": {
        "colab": {
          "base_uri": "https://localhost:8080/"
        },
        "id": "rpeYgWQea1Gn",
        "outputId": "ed84151f-8f04-4243-bd96-4b4222412c9d"
      },
      "execution_count": 111,
      "outputs": [
        {
          "output_type": "stream",
          "name": "stdout",
          "text": [
            "Model: \"sequential_13\"\n",
            "_________________________________________________________________\n",
            " Layer (type)                Output Shape              Param #   \n",
            "=================================================================\n",
            " embedding_5 (Embedding)     (None, 90, 64)            640000    \n",
            "                                                                 \n",
            " flatten_3 (Flatten)         (None, 5760)              0         \n",
            "                                                                 \n",
            " dense_45 (Dense)            (None, 128)               737408    \n",
            "                                                                 \n",
            " dense_46 (Dense)            (None, 64)                8256      \n",
            "                                                                 \n",
            " dense_47 (Dense)            (None, 7)                 455       \n",
            "                                                                 \n",
            "=================================================================\n",
            "Total params: 1386119 (5.29 MB)\n",
            "Trainable params: 1386119 (5.29 MB)\n",
            "Non-trainable params: 0 (0.00 Byte)\n",
            "_________________________________________________________________\n"
          ]
        }
      ]
    },
    {
      "cell_type": "code",
      "execution_count": 105,
      "metadata": {
        "colab": {
          "base_uri": "https://localhost:8080/",
          "height": 831
        },
        "id": "-INOeBOUwFh_",
        "outputId": "35a861f8-0714-4135-da12-572b37396902"
      },
      "outputs": [
        {
          "output_type": "stream",
          "name": "stdout",
          "text": [
            "Epoch 1/10\n",
            "155/155 [==============================] - 4s 20ms/step - loss: 1.4469 - accuracy: 0.4217 - val_loss: 1.2918 - val_accuracy: 0.4406\n",
            "Epoch 2/10\n",
            "155/155 [==============================] - 3s 19ms/step - loss: 1.1061 - accuracy: 0.5722 - val_loss: 1.4631 - val_accuracy: 0.4058\n",
            "Epoch 3/10\n",
            "155/155 [==============================] - 3s 19ms/step - loss: 0.6215 - accuracy: 0.7921 - val_loss: 1.8908 - val_accuracy: 0.3452\n",
            "Epoch 4/10\n",
            "155/155 [==============================] - 6s 37ms/step - loss: 0.4140 - accuracy: 0.8643 - val_loss: 2.0036 - val_accuracy: 0.3088\n",
            "Epoch 5/10\n",
            "155/155 [==============================] - 4s 23ms/step - loss: 0.3082 - accuracy: 0.8987 - val_loss: 2.3933 - val_accuracy: 0.3670\n",
            "Epoch 6/10\n",
            "155/155 [==============================] - 3s 19ms/step - loss: 0.2221 - accuracy: 0.9213 - val_loss: 2.4901 - val_accuracy: 0.3678\n",
            "Epoch 7/10\n",
            "155/155 [==============================] - 5s 34ms/step - loss: 0.1929 - accuracy: 0.9345 - val_loss: 2.7963 - val_accuracy: 0.3452\n",
            "Epoch 8/10\n",
            "155/155 [==============================] - 4s 25ms/step - loss: 0.1584 - accuracy: 0.9438 - val_loss: 2.8815 - val_accuracy: 0.3177\n",
            "Epoch 9/10\n",
            "155/155 [==============================] - 3s 19ms/step - loss: 0.1507 - accuracy: 0.9486 - val_loss: 3.3774 - val_accuracy: 0.3678\n",
            "Epoch 10/10\n",
            "155/155 [==============================] - 3s 18ms/step - loss: 0.1329 - accuracy: 0.9527 - val_loss: 3.1967 - val_accuracy: 0.3605\n",
            "83/83 [==============================] - 1s 6ms/step - loss: 3.2587 - accuracy: 0.3722\n"
          ]
        },
        {
          "output_type": "display_data",
          "data": {
            "text/plain": [
              "<Figure size 640x480 with 1 Axes>"
            ],
            "image/png": "[encoded data removed]"
          },
          "metadata": {}
        },
        {
          "output_type": "stream",
          "name": "stdout",
          "text": [
            "Test Loss (mean squared error): [3.258723020553589, 0.3722159266471863]\n"
          ]
        }
      ],
      "source": [
        "fit_evaluate_model(model_embedding, 0.01, 'categorical_crossentropy', ['accuracy'], 10)"
      ]
    },
    {
      "cell_type": "code",
      "execution_count": 106,
      "metadata": {
        "colab": {
          "base_uri": "https://localhost:8080/"
        },
        "id": "NPyKDYF0wFkb",
        "outputId": "32112d0b-67ed-4f92-c0e0-71ecc61bcbaf"
      },
      "outputs": [
        {
          "output_type": "stream",
          "name": "stdout",
          "text": [
            "83/83 [==============================] - 1s 5ms/step\n",
            "Confusion Matrix:\n",
            " [[296   4   6 536  60   0  29]\n",
            " [  6   1   0  13   6   0   0]\n",
            " [ 29   1   1  52   3   0   7]\n",
            " [365  11  17 645  59   0  42]\n",
            " [ 47   1   1 100  19   0   3]\n",
            " [  0   0   0   1   0   0   0]\n",
            " [ 88   4   6 152  14   0  24]]\n",
            "Classification Report:\n",
            "               precision    recall  f1-score   support\n",
            "\n",
            "           0       0.36      0.32      0.34       931\n",
            "           1       0.05      0.04      0.04        26\n",
            "           2       0.03      0.01      0.02        93\n",
            "           3       0.43      0.57      0.49      1139\n",
            "           4       0.12      0.11      0.11       171\n",
            "           5       1.00      0.00      0.00         1\n",
            "           6       0.23      0.08      0.12       288\n",
            "\n",
            "    accuracy                           0.37      2649\n",
            "   macro avg       0.32      0.16      0.16      2649\n",
            "weighted avg       0.34      0.37      0.35      2649\n",
            "\n",
            "Accuracy: 0.3722159305398263\n"
          ]
        }
      ],
      "source": [
        "predict_from_model_classification(model_embedding)"
      ]
    }
  ],
  "metadata": {
    "colab": {
      "collapsed_sections": [
        "wjJiRJ3x4GSV",
        "yfNyi-BE4OI-",
        "qTO9_9do7RPz",
        "n_VH6Byl5dxI",
        "nXwVZRnOEhRE",
        "sjF3AEcxeqox",
        "MX8VF4Ls6G_8",
        "JwK3btE7CpVc",
        "ViAsnzKBsPMO",
        "UaCpBYqkYN-P",
        "3aVYaNwhsubJ"
      ],
      "provenance": []
    },
    "kernelspec": {
      "display_name": "Python 3",
      "name": "python3"
    },
    "language_info": {
      "name": "python"
    }
  },
  "nbformat": 4,
  "nbformat_minor": 0
}